{
 "cells": [
  {
   "cell_type": "code",
   "execution_count": 1,
   "id": "e4f3486a",
   "metadata": {},
   "outputs": [],
   "source": [
    "import os\n",
    "import glob\n",
    "import xarray as xr\n",
    "import radarx as rx"
   ]
  },
  {
   "cell_type": "code",
   "execution_count": 2,
   "id": "7bdccaa5",
   "metadata": {},
   "outputs": [
    {
     "data": {
      "text/plain": [
       "635"
      ]
     },
     "execution_count": 2,
     "metadata": {},
     "output_type": "execute_result"
    }
   ],
   "source": [
    "files = sorted(glob.glob(\"../Radar_Data/6thjune19/*\"))\n",
    "len(files)"
   ]
  },
  {
   "cell_type": "markdown",
   "id": "ef7ab857",
   "metadata": {},
   "source": [
    "Note: If your data is Type-A and TypeB data is in the same directory, then you can do something like, otheriwse skip this step and move to read_volume step"
   ]
  },
  {
   "cell_type": "code",
   "execution_count": 3,
   "id": "e2f7bb13",
   "metadata": {},
   "outputs": [],
   "source": [
    "short_range = []\n",
    "for file in files:\n",
    "    ds = xr.open_dataset(file)\n",
    "#     print(ds.sweep.size)\n",
    "    if ds.sweep.size<4:\n",
    "        continue\n",
    "    short_range.append(file)"
   ]
  },
  {
   "cell_type": "code",
   "execution_count": 4,
   "id": "403176bd",
   "metadata": {},
   "outputs": [
    {
     "name": "stderr",
     "output_type": "stream",
     "text": [
      "INFO:radarx.io.imd:Successfully grouped files into 49 sweep groups.\n"
     ]
    }
   ],
   "source": [
    "ds = rx.io.read_volume(short_range)"
   ]
  },
  {
   "cell_type": "code",
   "execution_count": 5,
   "id": "67116695",
   "metadata": {
    "scrolled": true
   },
   "outputs": [
    {
     "name": "stdout",
     "output_type": "stream",
     "text": [
      "processing volume_0\n",
      "processing volume_1\n",
      "processing volume_2\n",
      "processing volume_3\n",
      "processing volume_4\n",
      "processing volume_5\n",
      "processing volume_6\n",
      "processing volume_7\n",
      "processing volume_8\n",
      "processing volume_9\n",
      "processing volume_10\n",
      "processing volume_11\n",
      "processing volume_12\n",
      "processing volume_13\n",
      "processing volume_14\n",
      "processing volume_15\n",
      "processing volume_16\n",
      "processing volume_17\n",
      "processing volume_18\n",
      "processing volume_19\n",
      "processing volume_20\n",
      "processing volume_21\n",
      "processing volume_22\n",
      "processing volume_23\n",
      "processing volume_24\n",
      "processing volume_25\n",
      "processing volume_26\n",
      "processing volume_27\n",
      "processing volume_28\n",
      "processing volume_29\n",
      "processing volume_30\n",
      "processing volume_31\n",
      "processing volume_32\n",
      "processing volume_33\n",
      "processing volume_34\n",
      "processing volume_35\n",
      "processing volume_36\n",
      "processing volume_37\n",
      "processing volume_38\n",
      "processing volume_39\n",
      "processing volume_40\n",
      "processing volume_41\n",
      "processing volume_42\n",
      "processing volume_43\n",
      "processing volume_44\n",
      "processing volume_45\n",
      "processing volume_46\n",
      "processing volume_47\n",
      "processing volume_48\n"
     ]
    }
   ],
   "source": [
    "outdir = \"../Radar_Data/CFRADIAL1_06June19\"\n",
    "os.makedirs(outdir, exist_ok=True)\n",
    "\n",
    "for vol in ds.match(\"volume_*\"):\n",
    "    print(\"processing\", vol)\n",
    "    time_str = str(ds[vol].time.min().dt.strftime('%Y%m%d_%H%M%S').values)\n",
    "    ds[vol].to_dataset().to_netcdf(os.path.join(outdir, time_str+\".nc\"))"
   ]
  },
  {
   "cell_type": "code",
   "execution_count": null,
   "id": "04871662",
   "metadata": {},
   "outputs": [],
   "source": []
  }
 ],
 "metadata": {
  "kernelspec": {
   "display_name": "Python 3 (ipykernel)",
   "language": "python",
   "name": "python3"
  },
  "language_info": {
   "codemirror_mode": {
    "name": "ipython",
    "version": 3
   },
   "file_extension": ".py",
   "mimetype": "text/x-python",
   "name": "python",
   "nbconvert_exporter": "python",
   "pygments_lexer": "ipython3",
   "version": "3.12.9"
  }
 },
 "nbformat": 4,
 "nbformat_minor": 5
}
