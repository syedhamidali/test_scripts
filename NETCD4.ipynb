{
 "cells": [
  {
   "cell_type": "markdown",
   "metadata": {},
   "source": [
    "Create a NetCDF Dataset\n",
    "Import the netCDF4 and numpy modules. Then define a file name with the .nc or .nc4 extension. Call Dataset and specify write mode with 'w' to create the NetCDF file by. The NetCDF file is not established and can be written to. When finished, be sure to call close() on the data set."
   ]
  },
  {
   "cell_type": "code",
   "execution_count": null,
   "metadata": {},
   "outputs": [],
   "source": [
    "import netCDF4 as nc\n",
    "import numpy as np\n",
    "\n",
    "fn = 'C:/temp/test.nc'\n",
    "ds = nc.Dataset(fn, 'w', format='NETCDF4')"
   ]
  },
  {
   "cell_type": "markdown",
   "metadata": {},
   "source": [
    "Add Dimensions\n",
    "NetCDF files generally contain three dimesions: time, width (x or longitude) and height (y or latitude). Width and height dimensions are always fixed. The time dimension is dynamic (can grow), which allows time steps to be added to the file. Dynamic, or growing, dimensions are termed ‘unlimited’ in NetCDF.\n",
    "Unlimited dimensions can be added to and are specified by None. We'll use an unlimited dimension for the time variable so that it can grow. In other words, we can keep appending time steps to the file. Also, create latitude and longitude dimensions. lat and lon define the geographical extents and dimensions of our file. Here we're just creating a dimension of size 10. This means the resulting grid will have just 10 rows and 10 columns. The size, or geographic distance, of lat and lon are specified as variables. In fact, each dimension will have a corresponding variable."
   ]
  },
  {
   "cell_type": "code",
   "execution_count": null,
   "metadata": {},
   "outputs": [],
   "source": [
    "time = ds.createDimension('time', None)\n",
    "lat = ds.createDimension('lat', 10)\n",
    "lon = ds.createDimension('lon', 10)"
   ]
  },
  {
   "cell_type": "markdown",
   "metadata": {},
   "source": [
    "Add NetCDF Variables\n",
    "Variables contain the actual data of the file. They also define the grid the data are referenced to. This file will contain four variables. Latitude and longitude define the grid values and data location. times defines the layers in the data file. value contains the actual data. To create a variable, specify the variable name, data type, and shape. Shape is defined as a tuple by referencing dimension names. Additional metadata are also specified. Here we define the units of value as Unknown."
   ]
  },
  {
   "cell_type": "code",
   "execution_count": null,
   "metadata": {},
   "outputs": [],
   "source": [
    "times = ds.createVariable('time', 'f4', ('time',))\n",
    "lats = ds.createVariable('lat', 'f4', ('lat',))\n",
    "lons = ds.createVariable('lon', 'f4', ('lon',))\n",
    "value = ds.createVariable('value', 'f4', ('time', 'lat', 'lon',))\n",
    "value.units = 'Unknown'"
   ]
  },
  {
   "cell_type": "markdown",
   "metadata": {},
   "source": [
    "Assign Latitude and Longitude Values\n",
    "Create a simple grid with grid cells that measure 1 degree by 1 degree with numpy.arange. Assign y values to lats and x values to lons. Now we just need to assign data values that match the dimensions of the grid we've created."
   ]
  },
  {
   "cell_type": "code",
   "execution_count": null,
   "metadata": {},
   "outputs": [],
   "source": [
    "lats[:] = np.arange(40.0, 50.0, 1.0)\n",
    "lons[:] = np.arange(-110.0, -100.0, 1.0)"
   ]
  },
  {
   "cell_type": "markdown",
   "metadata": {},
   "source": [
    "Assign NetCDF Data Values\n",
    "Add data for two time steps to the value variable that we created. Each time step is represented by a 2D numpy array. The size of each array must match the lat and lon dimensions. Create an array of random numbers ranging from 0 to 100 with numpy.random. This array contains data for the first time step.\n",
    "Next, create an array with values that increase linearly from 0.5 to 5.0. To do this, create two 1D arrays with numpy.linspace and add them together across opposing axes. The code below shows how it's done. Close ds after you've created the arrays and assigned them to value. Your NetCDF is now saved and ready. Open the file in QGIS to visualize, or plot the arrays in Python. Images of the result are shown below."
   ]
  },
  {
   "cell_type": "code",
   "execution_count": null,
   "metadata": {},
   "outputs": [],
   "source": [
    "value[0, :, :] = np.random.uniform(0, 100, size=(10, 10))  # unifrom random values\n",
    "\n",
    "print('var size after adding first data', value.shape)\n",
    "xval = np.linspace(0.5, 5.0, 10)\n",
    "yval = np.linspace(0.5, 5.0, 10)\n",
    "value[1, :, :] = np.array(xval.reshape(-1, 1) + yval)  # linear gradient values\n",
    "\n",
    "ds.close()"
   ]
  }
 ],
 "metadata": {
  "kernelspec": {
   "display_name": "Python 3",
   "language": "python",
   "name": "python3"
  },
  "language_info": {
   "codemirror_mode": {
    "name": "ipython",
    "version": 3
   },
   "file_extension": ".py",
   "mimetype": "text/x-python",
   "name": "python",
   "nbconvert_exporter": "python",
   "pygments_lexer": "ipython3",
   "version": "3.8.6"
  }
 },
 "nbformat": 4,
 "nbformat_minor": 4
}
