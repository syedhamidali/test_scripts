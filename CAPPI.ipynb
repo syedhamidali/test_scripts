{
 "cells": [
  {
   "cell_type": "code",
   "execution_count": 7,
   "metadata": {},
   "outputs": [],
   "source": [
    "%matplotlib inline\n",
    "import pyart\n",
    "import numpy as np\n",
    "import matplotlib.pyplot as plt\n",
    "import pandas as pd\n",
    "import warnings\n",
    "warnings.filterwarnings('ignore')\n",
    "try:\n",
    "    get_ipython().magic(\"matplotlib inline\")\n",
    "except:\n",
    "    pl.ion()"
   ]
  },
  {
   "cell_type": "code",
   "execution_count": 8,
   "metadata": {},
   "outputs": [],
   "source": [
    "radar = pyart.io.read('MDV-20150805-102446-PPIVol.nc')"
   ]
  },
  {
   "cell_type": "code",
   "execution_count": 13,
   "metadata": {
    "scrolled": false
   },
   "outputs": [
    {
     "name": "stdout",
     "output_type": "stream",
     "text": [
      "altitude:\n",
      "\tdata: <ndarray of type: float64 and shape: (1,)>\n",
      "\tstandard_name: altitude\n",
      "\tunits: meters\n",
      "altitude_agl: None\n",
      "antenna_transition: None\n",
      "azimuth:\n",
      "\tdata: <ndarray of type: float32 and shape: (9270,)>\n",
      "\tstandard_name: beam_azimuth_angle\n",
      "\tlong_name: azimuth_angle_from_true_north\n",
      "\tunits: degrees\n",
      "\taxis: radial_azimuth_coordinate\n",
      "elevation:\n",
      "\tdata: <ndarray of type: float32 and shape: (9270,)>\n",
      "\tstandard_name: beam_elevation_angle\n",
      "\tlong_name: elevation_angle_from_horizontal_plane\n",
      "\tunits: degrees\n",
      "\taxis: radial_elevation_coordinate\n",
      "fields:\n",
      "\tDBZH:\n",
      "\t\tdata: <ndarray of type: float32 and shape: (9270, 2500)>\n",
      "\t\tlong_name: equivalent_reflectivity_factor_h\n",
      "\t\tunits: dBZ\n",
      "\t\t_FillValue: -32768\n",
      "\t\tcoordinates: elevation azimuth range\n",
      "\tDBZV:\n",
      "\t\tdata: <ndarray of type: float32 and shape: (9270, 2500)>\n",
      "\t\tlong_name: equivalent_reflectivity_factor_v\n",
      "\t\tunits: dBZ\n",
      "\t\t_FillValue: -32768\n",
      "\t\tcoordinates: elevation azimuth range\n",
      "\tVELH:\n",
      "\t\tdata: <ndarray of type: float32 and shape: (9270, 2500)>\n",
      "\t\tlong_name: radial_velocity_h\n",
      "\t\tunits: m/s\n",
      "\t\t_FillValue: -32768\n",
      "\t\tcoordinates: elevation azimuth range\n",
      "\tVELV:\n",
      "\t\tdata: <ndarray of type: float32 and shape: (9270, 2500)>\n",
      "\t\tlong_name: radial_velocity_v\n",
      "\t\tunits: m/s\n",
      "\t\t_FillValue: -32768\n",
      "\t\tcoordinates: elevation azimuth range\n",
      "fixed_angle:\n",
      "\tdata: <ndarray of type: float32 and shape: (18,)>\n",
      "\tstandard_name: target_fixed_angle\n",
      "\tunits: degrees\n",
      "instrument_parameters:\n",
      "\tfrequency:\n",
      "\t\tdata: <ndarray of type: float32 and shape: (1,)>\n",
      "\t\tmeta_group: instrument_parameters\n",
      "\t\tstandard_name: radiation_frequency\n",
      "\t\tunits: s-1\n",
      "\tpulse_width:\n",
      "\t\tdata: <ndarray of type: float32 and shape: (9270,)>\n",
      "\t\tmeta_group: instrument_parameters\n",
      "\t\tstandard_name: transmitter_pulse_width\n",
      "\t\tunits: seconds\n",
      "\tprt_mode:\n",
      "\t\tdata: <ndarray of type: |S1 and shape: (18, 10)>\n",
      "\t\tmeta_group: instrument_parameters\n",
      "\t\tstandard_name: transmit_pulse_mode\n",
      "\tprt:\n",
      "\t\tdata: <ndarray of type: float32 and shape: (9270,)>\n",
      "\t\tmeta_group: instrument_parameters\n",
      "\t\tstandard_name: pulse_repetition_time\n",
      "\t\tunits: seconds\n",
      "\tprt_ratio:\n",
      "\t\tdata: <ndarray of type: float32 and shape: (9270,)>\n",
      "\t\tmeta_group: instrument_parameters\n",
      "\t\tstandard_name: multiple_pulse_repetition_frequency_ratio\n",
      "\tpolarization_mode:\n",
      "\t\tdata: <ndarray of type: |S1 and shape: (18, 10)>\n",
      "\t\tmeta_group: instrument_parameters\n",
      "\t\tstandard_name: transmit_receive_polarization_mode\n",
      "\tnyquist_velocity:\n",
      "\t\tdata: <ndarray of type: float32 and shape: (9270,)>\n",
      "\t\tmeta_group: instrument_parameters\n",
      "\t\tstandard_name: unambiguous_doppler_velocity\n",
      "\t\tunits: m/s\n",
      "\tn_samples:\n",
      "\t\tdata: <ndarray of type: int32 and shape: (9270,)>\n",
      "\t\tmeta_group: instrument_parameters\n",
      "\t\tstandard_name: number_of_samples_used_to_compute_moments\n",
      "\tradar_antenna_gain_h:\n",
      "\t\tdata: <ndarray of type: float32 and shape: (1,)>\n",
      "\t\tmeta_group: radar_parameters\n",
      "\t\tstandard_name: nominal_radar_antenna_gain_h_channel\n",
      "\t\tunits: dB\n",
      "\tradar_antenna_gain_v:\n",
      "\t\tdata: <ndarray of type: float32 and shape: (1,)>\n",
      "\t\tmeta_group: radar_parameters\n",
      "\t\tstandard_name: nominal_radar_antenna_gain_v_channel\n",
      "\t\tunits: dB\n",
      "\tradar_beam_width_h:\n",
      "\t\tdata: <ndarray of type: float32 and shape: (1,)>\n",
      "\t\tmeta_group: radar_parameters\n",
      "\t\tstandard_name: half_power_radar_beam_width_h_channel\n",
      "\t\tunits: degrees\n",
      "\tradar_beam_width_v:\n",
      "\t\tdata: <ndarray of type: float32 and shape: (1,)>\n",
      "\t\tmeta_group: radar_parameters\n",
      "\t\tstandard_name: half_power_radar_beam_width_v_channel\n",
      "\t\tunits: degrees\n",
      "\tradar_receiver_bandwidth:\n",
      "\t\tdata: <ndarray of type: float32 and shape: (1,)>\n",
      "\t\tmeta_group: radar_parameters\n",
      "\t\tstandard_name: radar_receiver_bandwidth\n",
      "\t\tunits: s-1\n",
      "\tradar_measured_transmit_power_h:\n",
      "\t\tdata: <ndarray of type: float32 and shape: (9270,)>\n",
      "\t\tmeta_group: radar_parameters\n",
      "\t\tstandard_name: radar_transmit_power_h_channel\n",
      "\t\tunits: watts\n",
      "\tradar_measured_transmit_power_v:\n",
      "\t\tdata: <ndarray of type: float32 and shape: (9270,)>\n",
      "\t\tmeta_group: radar_parameters\n",
      "\t\tstandard_name: radar_transmit_power_v_channel\n",
      "\t\tunits: watts\n",
      "latitude:\n",
      "\tdata: <ndarray of type: float64 and shape: (1,)>\n",
      "\tstandard_name: latitude\n",
      "\tunits: degrees_north\n",
      "longitude:\n",
      "\tdata: <ndarray of type: float64 and shape: (1,)>\n",
      "\tstandard_name: longitude\n",
      "\tunits: degrees_east\n",
      "nsweeps: 18\n",
      "ngates: 2500\n",
      "nrays: 9270\n",
      "radar_calibration: None\n",
      "range:\n",
      "\tdata: <ndarray of type: float32 and shape: (2500,)>\n",
      "\tstandard_name: projection_range_coordinate\n",
      "\tlong_name: range_to_measurement_volume\n",
      "\tunits: meters\n",
      "\tspacing_is_constant: true\n",
      "\tmeters_to_center_of_first_gate: 25.0\n",
      "\tmeters_between_gates: 50.0\n",
      "\taxis: radial_range_coordinate\n",
      "scan_rate: None\n",
      "scan_type: ppi\n",
      "sweep_end_ray_index:\n",
      "\tdata: <ndarray of type: int32 and shape: (18,)>\n",
      "\tstandard_name: index_of_last_ray_in_sweep\n",
      "\tunits: 1\n",
      "sweep_mode:\n",
      "\tdata: <ndarray of type: |S1 and shape: (18, 10)>\n",
      "\tstandard_name: scan_mode_for_sweep\n",
      "\tunits: 1\n",
      "sweep_number:\n",
      "\tdata: <ndarray of type: int32 and shape: (18,)>\n",
      "\tstandard_name: sweep_index_number_0_based\n",
      "\tunits: 1\n",
      "sweep_start_ray_index:\n",
      "\tdata: <ndarray of type: int32 and shape: (18,)>\n",
      "\tstandard_name: index_of_first_ray_in_sweep\n",
      "\tunits: 1\n",
      "target_scan_rate: None\n",
      "time:\n",
      "\tdata: <ndarray of type: float64 and shape: (9270,)>\n",
      "\tstandard_name: time\n",
      "\tlong_name: time in seconds since volume start\n",
      "\tunits: seconds since 2015-08-05T10:24:46Z\n",
      "\tcalendar: gregorian\n",
      "metadata:\n",
      "\tConventions: Cf/Radial instrument_parameters radar_parameters\n",
      "\ttitle: PPIVol\n",
      "\tinstitution: EEC\n",
      "\treferences: EEC\n",
      "\tsource: EDGE\n",
      "\thistory: original\n",
      "\tcomment: PPIVol\n",
      "\tinstrument_name: MDV\n",
      "\tsite_name: MDV\n",
      "\tn_gates_vary: false\n",
      "\tvolume_number: 1\n",
      "\tplatform_type: fixed\n",
      "\tinstrument_type: radar\n",
      "\tprimary_axis: axis_z\n"
     ]
    }
   ],
   "source": [
    "radar.info()"
   ]
  },
  {
   "cell_type": "code",
   "execution_count": 66,
   "metadata": {},
   "outputs": [],
   "source": [
    "def check_dimensions(radar, field='DBZH'):\n",
    "    \"\"\"\n",
    "    Check if field dimensions are constants across elevations\n",
    "    \"\"\"\n",
    "    dim0 = radar.fields[field]['data'][radar.get_slice(0)].shape\n",
    "    for ns in range(0, radar.nsweeps):\n",
    "        if dim0 != radar.fields[field]['data'][radar.get_slice(ns)].shape:\n",
    "            raise ValueError(\"dimension mismatch.\")\n",
    "    return True"
   ]
  },
  {
   "cell_type": "code",
   "execution_count": 67,
   "metadata": {},
   "outputs": [],
   "source": [
    "cappi_altitude = 2500  # Altitude in m for the CAPPI"
   ]
  },
  {
   "cell_type": "code",
   "execution_count": 68,
   "metadata": {},
   "outputs": [],
   "source": [
    "# Reshape field into a 3D array (elevation, azimuth, range)\n",
    "if check_dimensions(radar):\n",
    "    refl = radar.fields['DBZH']['data'].copy()\n",
    "    dim0 = refl[radar.get_slice(0)].shape\n",
    "\n",
    "    ref3dorig = refl.reshape((radar.nsweeps, dim0[0], dim0[1]))\n",
    "    ref3d = np.zeros_like(ref3dorig)\n",
    "    \n",
    "    # Sorting azimuth, put azimuth 0 at index 0, second azimuth at index 1, ...\n",
    "    for ns in range(radar.nsweeps):\n",
    "        azi = radar.azimuth['data'][radar.get_slice(ns)]\n",
    "        pos = np.argsort(azi)    \n",
    "        for i, p in enumerate(pos):\n",
    "            ref3d[ns, i, :] = ref3dorig[ns, p, :].copy()"
   ]
  },
  {
   "cell_type": "code",
   "execution_count": 69,
   "metadata": {},
   "outputs": [
    {
     "data": {
      "text/plain": [
       "(515, 2500)"
      ]
     },
     "execution_count": 69,
     "metadata": {},
     "output_type": "execute_result"
    }
   ],
   "source": [
    "refl[radar.get_slice(0)].shape"
   ]
  },
  {
   "cell_type": "code",
   "execution_count": 70,
   "metadata": {},
   "outputs": [
    {
     "data": {
      "text/plain": [
       "18"
      ]
     },
     "execution_count": 70,
     "metadata": {},
     "output_type": "execute_result"
    }
   ],
   "source": [
    "radar.nsweeps"
   ]
  },
  {
   "cell_type": "code",
   "execution_count": 71,
   "metadata": {},
   "outputs": [],
   "source": [
    "elevation = np.unique(radar.elevation['data'])\n",
    "r = radar.range['data']\n",
    "azi = np.linspace(0, 359, dim0[0])\n",
    "\n",
    "# Convert azimuth to polar\n",
    "theta = (450 - azi)\n",
    "theta[theta >= 360] -= 360\n",
    "\n",
    "THETA, PHI, R = np.meshgrid(theta, elevation, r)\n",
    "\n",
    "# Radar spherical to cartesian\n",
    "X = R * np.cos(PHI * np.pi / 180) * np.cos(THETA * np.pi / 180)\n",
    "Y = R * np.cos(PHI * np.pi / 180) * np.sin(THETA * np.pi / 180)\n",
    "Z = R * np.sin(PHI * np.pi / 180)"
   ]
  },
  {
   "cell_type": "code",
   "execution_count": 100,
   "metadata": {},
   "outputs": [
    {
     "data": {
      "text/plain": [
       "(54, 515, 2500)"
      ]
     },
     "execution_count": 100,
     "metadata": {},
     "output_type": "execute_result"
    }
   ],
   "source": [
    "R.shape"
   ]
  },
  {
   "cell_type": "code",
   "execution_count": 72,
   "metadata": {},
   "outputs": [
    {
     "data": {
      "image/png": "[encoded data removed]",
      "text/plain": [
       "<Figure size 432x288 with 2 Axes>"
      ]
     },
     "metadata": {
      "needs_background": "light"
     },
     "output_type": "display_data"
    }
   ],
   "source": [
    "plt.imshow(X[0, :, :], extent=[0, 150, 0, 360], origin='upper', aspect='auto', cmap='bwr')\n",
    "plt.colorbar(label='West-East distance (m)')\n",
    "plt.xlabel('Radar range (km)')\n",
    "plt.ylabel('Radar azimuth')\n",
    "plt.show()"
   ]
  },
  {
   "cell_type": "code",
   "execution_count": 73,
   "metadata": {},
   "outputs": [
    {
     "data": {
      "image/png": "[encoded data removed]",
      "text/plain": [
       "<Figure size 432x288 with 2 Axes>"
      ]
     },
     "metadata": {
      "needs_background": "light"
     },
     "output_type": "display_data"
    }
   ],
   "source": [
    "plt.imshow(Y[0, :, :], extent=[0, 150, 0, 360], origin='upper', aspect='auto', cmap='bwr')\n",
    "plt.colorbar(label='South-North distance (m)')\n",
    "plt.xlabel('Radar range (km)')\n",
    "plt.ylabel('Radar azimuth')\n",
    "plt.show()"
   ]
  },
  {
   "cell_type": "code",
   "execution_count": 77,
   "metadata": {},
   "outputs": [
    {
     "ename": "IndexError",
     "evalue": "index 51 is out of bounds for axis 0 with size 18",
     "output_type": "error",
     "traceback": [
      "\u001b[0;31m---------------------------------------------------------------------------\u001b[0m",
      "\u001b[0;31mIndexError\u001b[0m                                Traceback (most recent call last)",
      "\u001b[0;32m<ipython-input-77-a8d14206feab>\u001b[0m in \u001b[0;36m<module>\u001b[0;34m\u001b[0m\n\u001b[1;32m      6\u001b[0m \u001b[0;32mfor\u001b[0m \u001b[0mi\u001b[0m \u001b[0;32min\u001b[0m \u001b[0mrange\u001b[0m\u001b[0;34m(\u001b[0m\u001b[0mdim0\u001b[0m\u001b[0;34m[\u001b[0m\u001b[0;36m1\u001b[0m\u001b[0;34m]\u001b[0m\u001b[0;34m)\u001b[0m\u001b[0;34m:\u001b[0m\u001b[0;34m\u001b[0m\u001b[0;34m\u001b[0m\u001b[0m\n\u001b[1;32m      7\u001b[0m     \u001b[0;32mfor\u001b[0m \u001b[0mj\u001b[0m \u001b[0;32min\u001b[0m \u001b[0mrange\u001b[0m\u001b[0;34m(\u001b[0m\u001b[0mdim0\u001b[0m\u001b[0;34m[\u001b[0m\u001b[0;36m0\u001b[0m\u001b[0;34m]\u001b[0m\u001b[0;34m)\u001b[0m\u001b[0;34m:\u001b[0m\u001b[0;34m\u001b[0m\u001b[0;34m\u001b[0m\u001b[0m\n\u001b[0;32m----> 8\u001b[0;31m         \u001b[0mCAPPI\u001b[0m\u001b[0;34m[\u001b[0m\u001b[0mj\u001b[0m\u001b[0;34m,\u001b[0m \u001b[0mi\u001b[0m\u001b[0;34m]\u001b[0m \u001b[0;34m=\u001b[0m \u001b[0mref3d\u001b[0m\u001b[0;34m[\u001b[0m\u001b[0mposslice\u001b[0m\u001b[0;34m[\u001b[0m\u001b[0mj\u001b[0m\u001b[0;34m,\u001b[0m \u001b[0mi\u001b[0m\u001b[0;34m]\u001b[0m\u001b[0;34m,\u001b[0m \u001b[0mj\u001b[0m\u001b[0;34m,\u001b[0m \u001b[0mi\u001b[0m\u001b[0;34m]\u001b[0m\u001b[0;34m\u001b[0m\u001b[0;34m\u001b[0m\u001b[0m\n\u001b[0m\u001b[1;32m      9\u001b[0m         \u001b[0mXC\u001b[0m\u001b[0;34m[\u001b[0m\u001b[0mj\u001b[0m\u001b[0;34m,\u001b[0m \u001b[0mi\u001b[0m\u001b[0;34m]\u001b[0m \u001b[0;34m=\u001b[0m \u001b[0mX\u001b[0m\u001b[0;34m[\u001b[0m\u001b[0mposslice\u001b[0m\u001b[0;34m[\u001b[0m\u001b[0mj\u001b[0m\u001b[0;34m,\u001b[0m \u001b[0mi\u001b[0m\u001b[0;34m]\u001b[0m\u001b[0;34m,\u001b[0m \u001b[0mj\u001b[0m\u001b[0;34m,\u001b[0m \u001b[0mi\u001b[0m\u001b[0;34m]\u001b[0m\u001b[0;34m\u001b[0m\u001b[0;34m\u001b[0m\u001b[0m\n\u001b[1;32m     10\u001b[0m         \u001b[0mYC\u001b[0m\u001b[0;34m[\u001b[0m\u001b[0mj\u001b[0m\u001b[0;34m,\u001b[0m \u001b[0mi\u001b[0m\u001b[0;34m]\u001b[0m \u001b[0;34m=\u001b[0m \u001b[0mY\u001b[0m\u001b[0;34m[\u001b[0m\u001b[0mposslice\u001b[0m\u001b[0;34m[\u001b[0m\u001b[0mj\u001b[0m\u001b[0;34m,\u001b[0m \u001b[0mi\u001b[0m\u001b[0;34m]\u001b[0m\u001b[0;34m,\u001b[0m \u001b[0mj\u001b[0m\u001b[0;34m,\u001b[0m \u001b[0mi\u001b[0m\u001b[0;34m]\u001b[0m\u001b[0;34m\u001b[0m\u001b[0;34m\u001b[0m\u001b[0m\n",
      "\u001b[0;32m/opt/anaconda3/lib/python3.8/site-packages/numpy/ma/core.py\u001b[0m in \u001b[0;36m__getitem__\u001b[0;34m(self, indx)\u001b[0m\n\u001b[1;32m   3223\u001b[0m         \u001b[0;31m# mask of being reshaped if it hasn't been set up properly yet\u001b[0m\u001b[0;34m\u001b[0m\u001b[0;34m\u001b[0m\u001b[0;34m\u001b[0m\u001b[0m\n\u001b[1;32m   3224\u001b[0m         \u001b[0;31m# So it's easier to stick to the current version\u001b[0m\u001b[0;34m\u001b[0m\u001b[0;34m\u001b[0m\u001b[0;34m\u001b[0m\u001b[0m\n\u001b[0;32m-> 3225\u001b[0;31m         \u001b[0mdout\u001b[0m \u001b[0;34m=\u001b[0m \u001b[0mself\u001b[0m\u001b[0;34m.\u001b[0m\u001b[0mdata\u001b[0m\u001b[0;34m[\u001b[0m\u001b[0mindx\u001b[0m\u001b[0;34m]\u001b[0m\u001b[0;34m\u001b[0m\u001b[0;34m\u001b[0m\u001b[0m\n\u001b[0m\u001b[1;32m   3226\u001b[0m         \u001b[0m_mask\u001b[0m \u001b[0;34m=\u001b[0m \u001b[0mself\u001b[0m\u001b[0;34m.\u001b[0m\u001b[0m_mask\u001b[0m\u001b[0;34m\u001b[0m\u001b[0;34m\u001b[0m\u001b[0m\n\u001b[1;32m   3227\u001b[0m \u001b[0;34m\u001b[0m\u001b[0m\n",
      "\u001b[0;31mIndexError\u001b[0m: index 51 is out of bounds for axis 0 with size 18"
     ]
    }
   ],
   "source": [
    "posslice = np.argmin(np.abs(Z - cappi_altitude), axis=0)\n",
    "\n",
    "CAPPI = np.zeros((dim0[0], dim0[1]))\n",
    "XC = np.zeros((dim0[0], dim0[1]))\n",
    "YC = np.zeros((dim0[0], dim0[1]))\n",
    "for i in range(dim0[1]):\n",
    "    for j in range(dim0[0]):\n",
    "        CAPPI[j, i] = ref3d[posslice[j, i], j, i]\n",
    "        XC[j, i] = X[posslice[j, i], j, i]\n",
    "        YC[j, i] = Y[posslice[j, i], j, i]"
   ]
  },
  {
   "cell_type": "code",
   "execution_count": 28,
   "metadata": {},
   "outputs": [
    {
     "data": {
      "image/png": "[encoded data removed]",
      "text/plain": [
       "<Figure size 432x288 with 2 Axes>"
      ]
     },
     "metadata": {
      "needs_background": "light"
     },
     "output_type": "display_data"
    }
   ],
   "source": [
    "fig, ax = pl.subplots(1, 1)\n",
    "im = ax.pcolormesh(XC / 1e3, YC / 1e3, CAPPI, cmap='pyart_NWSRef', vmin=-15, vmax=65)\n",
    "fig.colorbar(im, ax=ax, label='Reflectivity (dBZ)')\n",
    "[ax.plot(r * np.cos(theta * np.pi / 180), r * np.sin(theta * np.pi / 180), 'k', linewidth=1, alpha=0.5) \n",
    "for r in [50, 100, 150]]\n",
    "ax.set_aspect(1)\n",
    "ax.set_xlabel('East-West distance from radar (km)')\n",
    "ax.set_ylabel('South-North distance from radar (km)')\n",
    "ax.set_title(f'CAPPI at {cappi_altitude} m')\n",
    "pl.show()"
   ]
  },
  {
   "cell_type": "code",
   "execution_count": 105,
   "metadata": {},
   "outputs": [],
   "source": [
    "def plot_cappi(radar, field_name, altitude, prdcfg, fname_list,\n",
    "               beamwidth=1., beam_spacing=1., save_fig=True):\n",
    "    \"\"\"\n",
    "    plots a Constant Altitude Plan Position Indicator CAPPI\n",
    "\n",
    "    Parameters\n",
    "    ----------\n",
    "    radar : Radar object\n",
    "        object containing the radar data to plot\n",
    "    field_name : str\n",
    "        name of the radar field to plot\n",
    "    altitude : float\n",
    "        the altitude [m MSL] to be plotted\n",
    "    prdcfg : dict\n",
    "        dictionary containing the product configuration\n",
    "    fname_list : list of str\n",
    "        list of names of the files where to store the plot\n",
    "    beamwidth : float\n",
    "        The radar beamwidth\n",
    "    beam_spacing : float\n",
    "        the ray angle resolution\n",
    "    save_fig : bool\n",
    "        if true save the figure. If false it does not close the plot and\n",
    "        returns the handle to the figure\n",
    "\n",
    "    Returns\n",
    "    -------\n",
    "    fname_list : list of str or\n",
    "    fig, ax : tupple\n",
    "        list of names of the saved plots or handle of the figure an axes\n",
    "\n",
    "    \"\"\"\n",
    "    norm, ticks, ticklabs = get_norm(field_name)\n",
    "\n",
    "    xmin = prdcfg['ppiImageConfig']['xmin']\n",
    "    xmax = prdcfg['ppiImageConfig']['xmax']\n",
    "    ymin = prdcfg['ppiImageConfig']['ymin']\n",
    "    ymax = prdcfg['ppiImageConfig']['ymax']\n",
    "\n",
    "    wfunc = prdcfg.get('wfunc', 'NEAREST')\n",
    "    cappi_res = prdcfg.get('res', 500.)\n",
    "\n",
    "    # number of grid points in cappi\n",
    "    ny = int((ymax-ymin)*1000./cappi_res)+1\n",
    "    nx = int((xmax-xmin)*1000./cappi_res)+1\n",
    "\n",
    "    # parameters to determine the gates to use for each grid point\n",
    "    if (radar.instrument_parameters is not None and\n",
    "            'radar_beam_width_h' in radar.instrument_parameters):\n",
    "        beamwidth = radar.instrument_parameters[\n",
    "            'radar_beam_width_h']['data'][0]\n",
    "\n",
    "    if radar.ray_angle_res is not None:\n",
    "        beam_spacing = radar.ray_angle_res['data'][0]\n",
    "\n",
    "    lat = float(radar.latitude['data'])\n",
    "    lon = float(radar.longitude['data'])\n",
    "    alt = 0.\n",
    "\n",
    "    # cartesian mapping\n",
    "    grid = pyart.map.grid_from_radars(\n",
    "        (radar,), gridding_algo='map_to_grid', weighting_function=wfunc,\n",
    "        roi_func='dist_beam', h_factor=1.0, nb=beamwidth, bsp=beam_spacing,\n",
    "        min_radius=cappi_res/2.,\n",
    "        grid_shape=(1, ny, nx),\n",
    "        grid_limits=((altitude, altitude), (ymin*1000., ymax*1000.),\n",
    "                     (xmin*1000., xmax*1000.)),\n",
    "        grid_origin=(lat, lon), grid_origin_alt=alt,\n",
    "        fields=[field_name])\n",
    "\n",
    "    # display data\n",
    "    dpi = prdcfg['ppiImageConfig'].get('dpi', 72)\n",
    "\n",
    "    fig = plt.figure(figsize=[prdcfg['ppiImageConfig']['xsize'],\n",
    "                              prdcfg['ppiImageConfig']['ysize']],\n",
    "                     dpi=dpi)\n",
    "    ax = fig.add_subplot(111, aspect='equal')\n",
    "    cmap = pyart.config.get_field_colormap(field_name)\n",
    "\n",
    "    vmin = vmax = None\n",
    "    if norm is None:  # if norm is set do not override with vmin/vmax\n",
    "        vmin, vmax = pyart.config.get_field_limits(field_name)\n",
    "\n",
    "    titl = pyart.graph.common.generate_grid_title(grid, field_name, 0)\n",
    "\n",
    "    cax = ax.imshow(\n",
    "        grid.fields[field_name]['data'][0], extent=(xmin, xmax, ymin, ymax),\n",
    "        origin='lower', cmap=cmap, vmin=vmin, vmax=vmax, norm=norm,\n",
    "        interpolation='none')\n",
    "    ax.set_xlabel('East West distance from radar(km)')\n",
    "    ax.set_ylabel('North South distance from radar(km)')\n",
    "    ax.set_title(titl)\n",
    "\n",
    "    # plot the colorbar and set the label.\n",
    "    cb = fig.colorbar(cax)\n",
    "    if ticks is not None:\n",
    "        cb.set_ticks(ticks)\n",
    "    if ticklabs:\n",
    "        cb.set_ticklabels(ticklabs)\n",
    "    label = get_colobar_label(grid.fields[field_name], field_name)\n",
    "    cb.set_label(label)\n",
    "\n",
    "    # Make a tight layout\n",
    "    fig.tight_layout()\n",
    "\n",
    "    if save_fig:\n",
    "        for fname in fname_list:\n",
    "            fig.savefig(fname, dpi=dpi)\n",
    "        plt.close(fig)\n",
    "\n",
    "        return fname_list\n",
    "\n",
    "    return (fig, ax)\n"
   ]
  },
  {
   "cell_type": "code",
   "execution_count": 111,
   "metadata": {},
   "outputs": [
    {
     "ename": "NameError",
     "evalue": "name 'get_norm' is not defined",
     "output_type": "error",
     "traceback": [
      "\u001b[0;31m---------------------------------------------------------------------------\u001b[0m",
      "\u001b[0;31mNameError\u001b[0m                                 Traceback (most recent call last)",
      "\u001b[0;32m<ipython-input-111-09c6a9276eaf>\u001b[0m in \u001b[0;36m<module>\u001b[0;34m\u001b[0m\n\u001b[0;32m----> 1\u001b[0;31m \u001b[0mplot_cappi\u001b[0m\u001b[0;34m(\u001b[0m\u001b[0mradar\u001b[0m\u001b[0;34m,\u001b[0m\u001b[0;34m'DBZH'\u001b[0m\u001b[0;34m,\u001b[0m\u001b[0;36m2500\u001b[0m\u001b[0;34m,\u001b[0m\u001b[0;34m'mch_cfg.py'\u001b[0m\u001b[0;34m,\u001b[0m\u001b[0;34m'Users/rizvi/Documents/Project/Jup'\u001b[0m\u001b[0;34m)\u001b[0m\u001b[0;34m\u001b[0m\u001b[0;34m\u001b[0m\u001b[0m\n\u001b[0m",
      "\u001b[0;32m<ipython-input-105-4be07ed9ac21>\u001b[0m in \u001b[0;36mplot_cappi\u001b[0;34m(radar, field_name, altitude, prdcfg, fname_list, beamwidth, beam_spacing, save_fig)\u001b[0m\n\u001b[1;32m     31\u001b[0m \u001b[0;34m\u001b[0m\u001b[0m\n\u001b[1;32m     32\u001b[0m     \"\"\"\n\u001b[0;32m---> 33\u001b[0;31m     \u001b[0mnorm\u001b[0m\u001b[0;34m,\u001b[0m \u001b[0mticks\u001b[0m\u001b[0;34m,\u001b[0m \u001b[0mticklabs\u001b[0m \u001b[0;34m=\u001b[0m \u001b[0mget_norm\u001b[0m\u001b[0;34m(\u001b[0m\u001b[0mfield_name\u001b[0m\u001b[0;34m)\u001b[0m\u001b[0;34m\u001b[0m\u001b[0;34m\u001b[0m\u001b[0m\n\u001b[0m\u001b[1;32m     34\u001b[0m \u001b[0;34m\u001b[0m\u001b[0m\n\u001b[1;32m     35\u001b[0m     \u001b[0mxmin\u001b[0m \u001b[0;34m=\u001b[0m \u001b[0mprdcfg\u001b[0m\u001b[0;34m[\u001b[0m\u001b[0;34m'ppiImageConfig'\u001b[0m\u001b[0;34m]\u001b[0m\u001b[0;34m[\u001b[0m\u001b[0;34m'xmin'\u001b[0m\u001b[0;34m]\u001b[0m\u001b[0;34m\u001b[0m\u001b[0;34m\u001b[0m\u001b[0m\n",
      "\u001b[0;31mNameError\u001b[0m: name 'get_norm' is not defined"
     ]
    }
   ],
   "source": [
    "plot_cappi(radar,'DBZH',2500,'mch_cfg.py2222','Users/rizvi/Documents/Project/Jup')"
   ]
  },
  {
   "cell_type": "code",
   "execution_count": null,
   "metadata": {},
   "outputs": [],
   "source": []
  },
  {
   "cell_type": "code",
   "execution_count": null,
   "metadata": {},
   "outputs": [],
   "source": []
  },
  {
   "cell_type": "code",
   "execution_count": null,
   "metadata": {},
   "outputs": [],
   "source": []
  }
 ],
 "metadata": {
  "kernelspec": {
   "display_name": "Python 3",
   "language": "python",
   "name": "python3"
  },
  "language_info": {
   "codemirror_mode": {
    "name": "ipython",
    "version": 3
   },
   "file_extension": ".py",
   "mimetype": "text/x-python",
   "name": "python",
   "nbconvert_exporter": "python",
   "pygments_lexer": "ipython3",
   "version": "3.8.6"
  }
 },
 "nbformat": 4,
 "nbformat_minor": 4
}
