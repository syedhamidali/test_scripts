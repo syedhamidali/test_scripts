{
 "cells": [
  {
   "cell_type": "code",
   "execution_count": 1,
   "id": "199fb0d4",
   "metadata": {},
   "outputs": [],
   "source": [
    "import numpy as np\n",
    "import matplotlib.pyplot as plt\n",
    "import cartopy.crs as ccrs\n",
    "import pandas as pd\n",
    "# import metpy.calc as mcal\n",
    "plt.rcParams['font.weight'] = 'normal'\n",
    "plt.rcParams['font.family'] = 'serif'\n",
    "plt.rcParams['font.size'] = 13\n",
    "import warnings\n",
    "warnings.filterwarnings(\"ignore\")"
   ]
  },
  {
   "cell_type": "code",
   "execution_count": 2,
   "id": "677426dc",
   "metadata": {},
   "outputs": [
    {
     "name": "stdout",
     "output_type": "stream",
     "text": [
      "\n",
      "PyMuPDF 1.19.6: Python bindings for the MuPDF 1.19.0 library.\n",
      "Version date: 2022-03-03 00:00:01.\n",
      "Built for Python 3.9 on darwin (64-bit).\n",
      "\n"
     ]
    }
   ],
   "source": [
    "import fitz\n",
    "print(fitz.__doc__)"
   ]
  },
  {
   "cell_type": "code",
   "execution_count": 3,
   "id": "1a9eab58",
   "metadata": {},
   "outputs": [],
   "source": [
    "doc = fitz.open(\"../PIPImages.pdf\")"
   ]
  },
  {
   "cell_type": "code",
   "execution_count": 4,
   "id": "1948051b",
   "metadata": {},
   "outputs": [
    {
     "data": {
      "text/plain": [
       "786"
      ]
     },
     "execution_count": 4,
     "metadata": {},
     "output_type": "execute_result"
    }
   ],
   "source": [
    "doc.page_count"
   ]
  },
  {
   "cell_type": "code",
   "execution_count": 5,
   "id": "f34cd368",
   "metadata": {},
   "outputs": [],
   "source": [
    "doc.delete_page(181)"
   ]
  },
  {
   "cell_type": "code",
   "execution_count": 6,
   "id": "025c9283",
   "metadata": {},
   "outputs": [
    {
     "data": {
      "text/plain": [
       "[(525.3800048828125,\n",
       "  45.25,\n",
       "  614.8900146484375,\n",
       "  58.9900016784668,\n",
       "  '09:47:03.475-35086',\n",
       "  0,\n",
       "  0,\n",
       "  0),\n",
       " (525.3800048828125,\n",
       "  111.25,\n",
       "  614.8900146484375,\n",
       "  124.98999786376953,\n",
       "  '09:49:04.075-47002',\n",
       "  1,\n",
       "  0,\n",
       "  0)]"
      ]
     },
     "execution_count": 6,
     "metadata": {},
     "output_type": "execute_result"
    }
   ],
   "source": [
    "doc[339].get_text(\"words\")"
   ]
  },
  {
   "cell_type": "code",
   "execution_count": 7,
   "id": "7274a2a6",
   "metadata": {},
   "outputs": [],
   "source": [
    "doc.delete_page(339)"
   ]
  },
  {
   "cell_type": "code",
   "execution_count": 8,
   "id": "665c54e9",
   "metadata": {},
   "outputs": [
    {
     "data": {
      "text/plain": [
       "784"
      ]
     },
     "execution_count": 8,
     "metadata": {},
     "output_type": "execute_result"
    }
   ],
   "source": [
    "doc.page_count"
   ]
  },
  {
   "cell_type": "code",
   "execution_count": 9,
   "id": "f358d956",
   "metadata": {},
   "outputs": [
    {
     "data": {
      "text/plain": [
       "{'format': 'PDF 1.3',\n",
       " 'title': '',\n",
       " 'author': '',\n",
       " 'subject': '',\n",
       " 'keywords': '',\n",
       " 'creator': 'pdftk 2.02 - www.pdftk.com',\n",
       " 'producer': 'itext-paulo-155 (itextpdf.sf.net-lowagie.com)',\n",
       " 'creationDate': \"D:20200113085534-07'00'\",\n",
       " 'modDate': \"D:20200113085534-07'00'\",\n",
       " 'trapped': '',\n",
       " 'encryption': None}"
      ]
     },
     "execution_count": 9,
     "metadata": {},
     "output_type": "execute_result"
    }
   ],
   "source": [
    "doc.metadata"
   ]
  },
  {
   "cell_type": "code",
   "execution_count": 11,
   "id": "f882f67e",
   "metadata": {},
   "outputs": [
    {
     "data": {
      "text/plain": [
       "784"
      ]
     },
     "execution_count": 11,
     "metadata": {},
     "output_type": "execute_result"
    }
   ],
   "source": [
    "doc.page_count"
   ]
  },
  {
   "cell_type": "code",
   "execution_count": 12,
   "id": "44bab59c",
   "metadata": {
    "scrolled": true
   },
   "outputs": [],
   "source": [
    "time_list = []\n",
    "for i in range(0, 784):\n",
    "    for j in range(0,4):\n",
    "        page = doc[i]\n",
    "        words = page.get_text(\"words\")\n",
    "#         print(i)\n",
    "        time_list.append(words[j][4])"
   ]
  },
  {
   "cell_type": "code",
   "execution_count": 13,
   "id": "b7a48127",
   "metadata": {},
   "outputs": [],
   "source": [
    "ftime = []\n",
    "for i in range(0, len(time_list)):\n",
    "    ftime.append(time_list[i].split('-')[0])"
   ]
  },
  {
   "cell_type": "code",
   "execution_count": 14,
   "id": "5af7e00d",
   "metadata": {},
   "outputs": [],
   "source": [
    "xx = pd.DataFrame({\"time\":ftime},)"
   ]
  },
  {
   "cell_type": "code",
   "execution_count": 15,
   "id": "5cd9fe0d",
   "metadata": {},
   "outputs": [],
   "source": [
    "xx['date']  = '2019-08-23'"
   ]
  },
  {
   "cell_type": "code",
   "execution_count": 16,
   "id": "5967fd4d",
   "metadata": {},
   "outputs": [],
   "source": [
    "TIME = pd.to_datetime(xx.date +' '+xx.time)"
   ]
  },
  {
   "cell_type": "code",
   "execution_count": 17,
   "id": "e7d8c0c4",
   "metadata": {},
   "outputs": [
    {
     "data": {
      "text/html": [
       "<div>\n",
       "<style scoped>\n",
       "    .dataframe tbody tr th:only-of-type {\n",
       "        vertical-align: middle;\n",
       "    }\n",
       "\n",
       "    .dataframe tbody tr th {\n",
       "        vertical-align: top;\n",
       "    }\n",
       "\n",
       "    .dataframe thead th {\n",
       "        text-align: right;\n",
       "    }\n",
       "</style>\n",
       "<table border=\"1\" class=\"dataframe\">\n",
       "  <thead>\n",
       "    <tr style=\"text-align: right;\">\n",
       "      <th></th>\n",
       "      <th>time</th>\n",
       "      <th>date</th>\n",
       "      <th>Dtime</th>\n",
       "    </tr>\n",
       "  </thead>\n",
       "  <tbody>\n",
       "    <tr>\n",
       "      <th>0</th>\n",
       "      <td>07:42:00.874</td>\n",
       "      <td>2019-08-23</td>\n",
       "      <td>2019-08-23 07:42:00.874</td>\n",
       "    </tr>\n",
       "    <tr>\n",
       "      <th>1</th>\n",
       "      <td>07:45:20.749</td>\n",
       "      <td>2019-08-23</td>\n",
       "      <td>2019-08-23 07:45:20.749</td>\n",
       "    </tr>\n",
       "    <tr>\n",
       "      <th>2</th>\n",
       "      <td>07:45:21.895</td>\n",
       "      <td>2019-08-23</td>\n",
       "      <td>2019-08-23 07:45:21.895</td>\n",
       "    </tr>\n",
       "    <tr>\n",
       "      <th>3</th>\n",
       "      <td>07:45:22.771</td>\n",
       "      <td>2019-08-23</td>\n",
       "      <td>2019-08-23 07:45:22.771</td>\n",
       "    </tr>\n",
       "    <tr>\n",
       "      <th>4</th>\n",
       "      <td>07:45:28.290</td>\n",
       "      <td>2019-08-23</td>\n",
       "      <td>2019-08-23 07:45:28.290</td>\n",
       "    </tr>\n",
       "    <tr>\n",
       "      <th>...</th>\n",
       "      <td>...</td>\n",
       "      <td>...</td>\n",
       "      <td>...</td>\n",
       "    </tr>\n",
       "    <tr>\n",
       "      <th>3131</th>\n",
       "      <td>11:02:31.642</td>\n",
       "      <td>2019-08-23</td>\n",
       "      <td>2019-08-23 11:02:31.642</td>\n",
       "    </tr>\n",
       "    <tr>\n",
       "      <th>3132</th>\n",
       "      <td>11:02:33.176</td>\n",
       "      <td>2019-08-23</td>\n",
       "      <td>2019-08-23 11:02:33.176</td>\n",
       "    </tr>\n",
       "    <tr>\n",
       "      <th>3133</th>\n",
       "      <td>11:02:33.745</td>\n",
       "      <td>2019-08-23</td>\n",
       "      <td>2019-08-23 11:02:33.745</td>\n",
       "    </tr>\n",
       "    <tr>\n",
       "      <th>3134</th>\n",
       "      <td>11:02:34.769</td>\n",
       "      <td>2019-08-23</td>\n",
       "      <td>2019-08-23 11:02:34.769</td>\n",
       "    </tr>\n",
       "    <tr>\n",
       "      <th>3135</th>\n",
       "      <td>11:03:03.435</td>\n",
       "      <td>2019-08-23</td>\n",
       "      <td>2019-08-23 11:03:03.435</td>\n",
       "    </tr>\n",
       "  </tbody>\n",
       "</table>\n",
       "<p>3136 rows × 3 columns</p>\n",
       "</div>"
      ],
      "text/plain": [
       "              time        date                   Dtime\n",
       "0     07:42:00.874  2019-08-23 2019-08-23 07:42:00.874\n",
       "1     07:45:20.749  2019-08-23 2019-08-23 07:45:20.749\n",
       "2     07:45:21.895  2019-08-23 2019-08-23 07:45:21.895\n",
       "3     07:45:22.771  2019-08-23 2019-08-23 07:45:22.771\n",
       "4     07:45:28.290  2019-08-23 2019-08-23 07:45:28.290\n",
       "...            ...         ...                     ...\n",
       "3131  11:02:31.642  2019-08-23 2019-08-23 11:02:31.642\n",
       "3132  11:02:33.176  2019-08-23 2019-08-23 11:02:33.176\n",
       "3133  11:02:33.745  2019-08-23 2019-08-23 11:02:33.745\n",
       "3134  11:02:34.769  2019-08-23 2019-08-23 11:02:34.769\n",
       "3135  11:03:03.435  2019-08-23 2019-08-23 11:03:03.435\n",
       "\n",
       "[3136 rows x 3 columns]"
      ]
     },
     "execution_count": 17,
     "metadata": {},
     "output_type": "execute_result"
    }
   ],
   "source": [
    "xx['Dtime'] = TIME\n",
    "xx"
   ]
  },
  {
   "cell_type": "code",
   "execution_count": null,
   "id": "a44cdb50",
   "metadata": {},
   "outputs": [],
   "source": [
    "xx.to_csv('Time_list.csv')"
   ]
  }
 ],
 "metadata": {
  "kernelspec": {
   "display_name": "Python 3 (ipykernel)",
   "language": "python",
   "name": "python3"
  },
  "language_info": {
   "codemirror_mode": {
    "name": "ipython",
    "version": 3
   },
   "file_extension": ".py",
   "mimetype": "text/x-python",
   "name": "python",
   "nbconvert_exporter": "python",
   "pygments_lexer": "ipython3",
   "version": "3.9.7"
  }
 },
 "nbformat": 4,
 "nbformat_minor": 5
}
