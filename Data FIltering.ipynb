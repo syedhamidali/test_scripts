{
 "cells": [
  {
   "cell_type": "code",
   "execution_count": 10,
   "metadata": {},
   "outputs": [],
   "source": [
    "import netCDF4 as nc\n",
    "import matplotlib.pyplot as plt\n",
    "import pandas as pd\n",
    "import numpy as np\n",
    "import pyart"
   ]
  },
  {
   "cell_type": "code",
   "execution_count": 11,
   "metadata": {},
   "outputs": [],
   "source": [
    "datafile = nc.Dataset('MDV-20150805-084449-PPIVol.nc')"
   ]
  },
  {
   "cell_type": "code",
   "execution_count": 12,
   "metadata": {},
   "outputs": [
    {
     "data": {
      "text/plain": [
       "<class 'netCDF4._netCDF4.Dataset'>\n",
       "root group (NETCDF3_CLASSIC data model, file format NETCDF3):\n",
       "    Conventions: Cf/Radial instrument_parameters radar_parameters\n",
       "    title: PPIVol\n",
       "    institution: EEC\n",
       "    references: EEC\n",
       "    source: EDGE\n",
       "    history: original\n",
       "    comment: PPIVol\n",
       "    instrument_name: MDV\n",
       "    site_name: MDV\n",
       "    n_gates_vary: false\n",
       "    dimensions(sizes): time(9270), range(2500), sweep(18), frequency(1), string_length_sm(10), string_length_md(25)\n",
       "    variables(dimensions): int32 volume_number(), float64 latitude(), float64 longitude(), float64 altitude(), |S1 time_coverage_start(string_length_md), |S1 time_coverage_end(string_length_md), float64 time(time), float32 azimuth(time), float32 elevation(time), float32 radar_antenna_gain_h(), float32 radar_antenna_gain_v(), float32 radar_beam_width_h(), float32 radar_beam_width_v(), float32 radar_receiver_bandwidth(), float32 frequency(frequency), float32 radar_measured_transmit_power_h(time), float32 radar_measured_transmit_power_v(time), float32 pulse_width(time), float32 prt(time), float32 prt_ratio(time), float32 nyquist_velocity(time), int32 n_samples(time), |S1 prt_mode(sweep, string_length_sm), |S1 polarization_mode(sweep, string_length_sm), float32 range(range), int32 sweep_number(sweep), |S1 sweep_mode(sweep, string_length_sm), float32 fixed_angle(sweep), int32 sweep_start_ray_index(sweep), int32 sweep_end_ray_index(sweep), int16 DBZH(time, range), int16 DBZV(time, range), int16 VELH(time, range), int16 VELV(time, range)\n",
       "    groups: "
      ]
     },
     "execution_count": 12,
     "metadata": {},
     "output_type": "execute_result"
    }
   ],
   "source": [
    "datafile"
   ]
  },
  {
   "cell_type": "code",
   "execution_count": 13,
   "metadata": {
    "scrolled": false
   },
   "outputs": [
    {
     "data": {
      "text/plain": [
       "{'volume_number': <class 'netCDF4._netCDF4.Variable'>\n",
       " int32 volume_number()\n",
       "     standard_name: data_volume_index_number\n",
       "     units: 1\n",
       " unlimited dimensions: \n",
       " current shape = ()\n",
       " filling on, default _FillValue of -2147483647 used,\n",
       " 'latitude': <class 'netCDF4._netCDF4.Variable'>\n",
       " float64 latitude()\n",
       "     standard_name: latitude\n",
       "     units: degrees_north\n",
       " unlimited dimensions: \n",
       " current shape = ()\n",
       " filling on, default _FillValue of 9.969209968386869e+36 used,\n",
       " 'longitude': <class 'netCDF4._netCDF4.Variable'>\n",
       " float64 longitude()\n",
       "     standard_name: longitude\n",
       "     units: degrees_east\n",
       " unlimited dimensions: \n",
       " current shape = ()\n",
       " filling on, default _FillValue of 9.969209968386869e+36 used,\n",
       " 'altitude': <class 'netCDF4._netCDF4.Variable'>\n",
       " float64 altitude()\n",
       "     standard_name: altitude\n",
       "     units: meters\n",
       " unlimited dimensions: \n",
       " current shape = ()\n",
       " filling on, default _FillValue of 9.969209968386869e+36 used,\n",
       " 'time_coverage_start': <class 'netCDF4._netCDF4.Variable'>\n",
       " |S1 time_coverage_start(string_length_md)\n",
       "     standard_name: data_volume_start_time_utc\n",
       "     units: 1\n",
       " unlimited dimensions: \n",
       " current shape = (25,)\n",
       " filling on, default _FillValue of \u0000 used,\n",
       " 'time_coverage_end': <class 'netCDF4._netCDF4.Variable'>\n",
       " |S1 time_coverage_end(string_length_md)\n",
       "     standard_name: data_volume_end_time_utc\n",
       "     units: 1\n",
       " unlimited dimensions: \n",
       " current shape = (25,)\n",
       " filling on, default _FillValue of \u0000 used,\n",
       " 'time': <class 'netCDF4._netCDF4.Variable'>\n",
       " float64 time(time)\n",
       "     standard_name: time\n",
       "     long_name: time in seconds since volume start\n",
       "     units: seconds since 2015-08-05T08:44:49Z\n",
       " unlimited dimensions: \n",
       " current shape = (9270,)\n",
       " filling on, default _FillValue of 9.969209968386869e+36 used,\n",
       " 'azimuth': <class 'netCDF4._netCDF4.Variable'>\n",
       " float32 azimuth(time)\n",
       "     standard_name: beam_azimuth_angle\n",
       "     long_name: azimuth_angle_from_true_north\n",
       "     units: degrees\n",
       "     axis: radial_azimuth_coordinate\n",
       " unlimited dimensions: \n",
       " current shape = (9270,)\n",
       " filling on, default _FillValue of 9.969209968386869e+36 used,\n",
       " 'elevation': <class 'netCDF4._netCDF4.Variable'>\n",
       " float32 elevation(time)\n",
       "     standard_name: beam_elevation_angle\n",
       "     long_name: elevation_angle_from_horizontal_plane\n",
       "     units: degrees\n",
       "     axis: radial_elevation_coordinate\n",
       " unlimited dimensions: \n",
       " current shape = (9270,)\n",
       " filling on, default _FillValue of 9.969209968386869e+36 used,\n",
       " 'radar_antenna_gain_h': <class 'netCDF4._netCDF4.Variable'>\n",
       " float32 radar_antenna_gain_h()\n",
       "     meta_group: radar_parameters\n",
       "     standard_name: nominal_radar_antenna_gain_h_channel\n",
       "     units: dB\n",
       " unlimited dimensions: \n",
       " current shape = ()\n",
       " filling on, default _FillValue of 9.969209968386869e+36 used,\n",
       " 'radar_antenna_gain_v': <class 'netCDF4._netCDF4.Variable'>\n",
       " float32 radar_antenna_gain_v()\n",
       "     meta_group: radar_parameters\n",
       "     standard_name: nominal_radar_antenna_gain_v_channel\n",
       "     units: dB\n",
       " unlimited dimensions: \n",
       " current shape = ()\n",
       " filling on, default _FillValue of 9.969209968386869e+36 used,\n",
       " 'radar_beam_width_h': <class 'netCDF4._netCDF4.Variable'>\n",
       " float32 radar_beam_width_h()\n",
       "     meta_group: radar_parameters\n",
       "     standard_name: half_power_radar_beam_width_h_channel\n",
       "     units: degrees\n",
       " unlimited dimensions: \n",
       " current shape = ()\n",
       " filling on, default _FillValue of 9.969209968386869e+36 used,\n",
       " 'radar_beam_width_v': <class 'netCDF4._netCDF4.Variable'>\n",
       " float32 radar_beam_width_v()\n",
       "     meta_group: radar_parameters\n",
       "     standard_name: half_power_radar_beam_width_v_channel\n",
       "     units: degrees\n",
       " unlimited dimensions: \n",
       " current shape = ()\n",
       " filling on, default _FillValue of 9.969209968386869e+36 used,\n",
       " 'radar_receiver_bandwidth': <class 'netCDF4._netCDF4.Variable'>\n",
       " float32 radar_receiver_bandwidth()\n",
       "     meta_group: radar_parameters\n",
       "     standard_name: radar_receiver_bandwidth\n",
       "     units: s-1\n",
       " unlimited dimensions: \n",
       " current shape = ()\n",
       " filling on, default _FillValue of 9.969209968386869e+36 used,\n",
       " 'frequency': <class 'netCDF4._netCDF4.Variable'>\n",
       " float32 frequency(frequency)\n",
       "     meta_group: instrument_parameters\n",
       "     standard_name: radiation_frequency\n",
       "     units: s-1\n",
       " unlimited dimensions: \n",
       " current shape = (1,)\n",
       " filling on, default _FillValue of 9.969209968386869e+36 used,\n",
       " 'radar_measured_transmit_power_h': <class 'netCDF4._netCDF4.Variable'>\n",
       " float32 radar_measured_transmit_power_h(time)\n",
       "     meta_group: radar_parameters\n",
       "     standard_name: radar_transmit_power_h_channel\n",
       "     units: watts\n",
       " unlimited dimensions: \n",
       " current shape = (9270,)\n",
       " filling on, default _FillValue of 9.969209968386869e+36 used,\n",
       " 'radar_measured_transmit_power_v': <class 'netCDF4._netCDF4.Variable'>\n",
       " float32 radar_measured_transmit_power_v(time)\n",
       "     meta_group: radar_parameters\n",
       "     standard_name: radar_transmit_power_v_channel\n",
       "     units: watts\n",
       " unlimited dimensions: \n",
       " current shape = (9270,)\n",
       " filling on, default _FillValue of 9.969209968386869e+36 used,\n",
       " 'pulse_width': <class 'netCDF4._netCDF4.Variable'>\n",
       " float32 pulse_width(time)\n",
       "     meta_group: instrument_parameters\n",
       "     standard_name: transmitter_pulse_width\n",
       "     units: seconds\n",
       " unlimited dimensions: \n",
       " current shape = (9270,)\n",
       " filling on, default _FillValue of 9.969209968386869e+36 used,\n",
       " 'prt': <class 'netCDF4._netCDF4.Variable'>\n",
       " float32 prt(time)\n",
       "     meta_group: instrument_parameters\n",
       "     standard_name: pulse_repetition_time\n",
       "     units: seconds\n",
       " unlimited dimensions: \n",
       " current shape = (9270,)\n",
       " filling on, default _FillValue of 9.969209968386869e+36 used,\n",
       " 'prt_ratio': <class 'netCDF4._netCDF4.Variable'>\n",
       " float32 prt_ratio(time)\n",
       "     meta_group: instrument_parameters\n",
       "     standard_name: multiple_pulse_repetition_frequency_ratio\n",
       " unlimited dimensions: \n",
       " current shape = (9270,)\n",
       " filling on, default _FillValue of 9.969209968386869e+36 used,\n",
       " 'nyquist_velocity': <class 'netCDF4._netCDF4.Variable'>\n",
       " float32 nyquist_velocity(time)\n",
       "     meta_group: instrument_parameters\n",
       "     standard_name: unambiguous_doppler_velocity\n",
       "     units: m/s\n",
       " unlimited dimensions: \n",
       " current shape = (9270,)\n",
       " filling on, default _FillValue of 9.969209968386869e+36 used,\n",
       " 'n_samples': <class 'netCDF4._netCDF4.Variable'>\n",
       " int32 n_samples(time)\n",
       "     meta_group: instrument_parameters\n",
       "     standard_name: number_of_samples_used_to_compute_moments\n",
       " unlimited dimensions: \n",
       " current shape = (9270,)\n",
       " filling on, default _FillValue of -2147483647 used,\n",
       " 'prt_mode': <class 'netCDF4._netCDF4.Variable'>\n",
       " |S1 prt_mode(sweep, string_length_sm)\n",
       "     meta_group: instrument_parameters\n",
       "     standard_name: transmit_pulse_mode\n",
       " unlimited dimensions: \n",
       " current shape = (18, 10)\n",
       " filling on, default _FillValue of \u0000 used,\n",
       " 'polarization_mode': <class 'netCDF4._netCDF4.Variable'>\n",
       " |S1 polarization_mode(sweep, string_length_sm)\n",
       "     meta_group: instrument_parameters\n",
       "     standard_name: transmit_receive_polarization_mode\n",
       " unlimited dimensions: \n",
       " current shape = (18, 10)\n",
       " filling on, default _FillValue of \u0000 used,\n",
       " 'range': <class 'netCDF4._netCDF4.Variable'>\n",
       " float32 range(range)\n",
       "     standard_name: projection_range_coordinate\n",
       "     long_name: range_to_measurement_volume\n",
       "     units: meters\n",
       "     spacing_is_constant: true\n",
       "     meters_to_center_of_first_gate: 25.0\n",
       "     meters_between_gates: 50.0\n",
       "     axis: radial_range_coordinate\n",
       " unlimited dimensions: \n",
       " current shape = (2500,)\n",
       " filling on, default _FillValue of 9.969209968386869e+36 used,\n",
       " 'sweep_number': <class 'netCDF4._netCDF4.Variable'>\n",
       " int32 sweep_number(sweep)\n",
       "     standard_name: sweep_index_number_0_based\n",
       "     units: 1\n",
       " unlimited dimensions: \n",
       " current shape = (18,)\n",
       " filling on, default _FillValue of -2147483647 used,\n",
       " 'sweep_mode': <class 'netCDF4._netCDF4.Variable'>\n",
       " |S1 sweep_mode(sweep, string_length_sm)\n",
       "     standard_name: scan_mode_for_sweep\n",
       "     units: 1\n",
       " unlimited dimensions: \n",
       " current shape = (18, 10)\n",
       " filling on, default _FillValue of \u0000 used,\n",
       " 'fixed_angle': <class 'netCDF4._netCDF4.Variable'>\n",
       " float32 fixed_angle(sweep)\n",
       "     standard_name: target_fixed_angle\n",
       "     units: degrees\n",
       " unlimited dimensions: \n",
       " current shape = (18,)\n",
       " filling on, default _FillValue of 9.969209968386869e+36 used,\n",
       " 'sweep_start_ray_index': <class 'netCDF4._netCDF4.Variable'>\n",
       " int32 sweep_start_ray_index(sweep)\n",
       "     standard_name: index_of_first_ray_in_sweep\n",
       "     units: 1\n",
       " unlimited dimensions: \n",
       " current shape = (18,)\n",
       " filling on, default _FillValue of -2147483647 used,\n",
       " 'sweep_end_ray_index': <class 'netCDF4._netCDF4.Variable'>\n",
       " int32 sweep_end_ray_index(sweep)\n",
       "     standard_name: index_of_last_ray_in_sweep\n",
       "     units: 1\n",
       " unlimited dimensions: \n",
       " current shape = (18,)\n",
       " filling on, default _FillValue of -2147483647 used,\n",
       " 'DBZH': <class 'netCDF4._netCDF4.Variable'>\n",
       " int16 DBZH(time, range)\n",
       "     long_name: equivalent_reflectivity_factor_h\n",
       "     units: dBZ\n",
       "     _FillValue: -32768\n",
       "     scale_factor: 0.01\n",
       "     add_offset: 0.0\n",
       "     coordinates: elevation azimuth range\n",
       " unlimited dimensions: \n",
       " current shape = (9270, 2500)\n",
       " filling on,\n",
       " 'DBZV': <class 'netCDF4._netCDF4.Variable'>\n",
       " int16 DBZV(time, range)\n",
       "     long_name: equivalent_reflectivity_factor_v\n",
       "     units: dBZ\n",
       "     _FillValue: -32768\n",
       "     scale_factor: 0.01\n",
       "     add_offset: 0.0\n",
       "     coordinates: elevation azimuth range\n",
       " unlimited dimensions: \n",
       " current shape = (9270, 2500)\n",
       " filling on,\n",
       " 'VELH': <class 'netCDF4._netCDF4.Variable'>\n",
       " int16 VELH(time, range)\n",
       "     long_name: radial_velocity_h\n",
       "     units: m/s\n",
       "     _FillValue: -32768\n",
       "     scale_factor: 0.01\n",
       "     add_offset: 0.0\n",
       "     coordinates: elevation azimuth range\n",
       " unlimited dimensions: \n",
       " current shape = (9270, 2500)\n",
       " filling on,\n",
       " 'VELV': <class 'netCDF4._netCDF4.Variable'>\n",
       " int16 VELV(time, range)\n",
       "     long_name: radial_velocity_v\n",
       "     units: m/s\n",
       "     _FillValue: -32768\n",
       "     scale_factor: 0.01\n",
       "     add_offset: 0.0\n",
       "     coordinates: elevation azimuth range\n",
       " unlimited dimensions: \n",
       " current shape = (9270, 2500)\n",
       " filling on}"
      ]
     },
     "execution_count": 13,
     "metadata": {},
     "output_type": "execute_result"
    }
   ],
   "source": [
    "datafile.variables"
   ]
  },
  {
   "cell_type": "code",
   "execution_count": 14,
   "metadata": {},
   "outputs": [
    {
     "name": "stdout",
     "output_type": "stream",
     "text": [
      "volume_number\n",
      "latitude\n",
      "longitude\n",
      "altitude\n",
      "time_coverage_start\n",
      "time_coverage_end\n",
      "time\n",
      "azimuth\n",
      "elevation\n",
      "radar_antenna_gain_h\n",
      "radar_antenna_gain_v\n",
      "radar_beam_width_h\n",
      "radar_beam_width_v\n",
      "radar_receiver_bandwidth\n",
      "frequency\n",
      "radar_measured_transmit_power_h\n",
      "radar_measured_transmit_power_v\n",
      "pulse_width\n",
      "prt\n",
      "prt_ratio\n",
      "nyquist_velocity\n",
      "n_samples\n",
      "prt_mode\n",
      "polarization_mode\n",
      "range\n",
      "sweep_number\n",
      "sweep_mode\n",
      "fixed_angle\n",
      "sweep_start_ray_index\n",
      "sweep_end_ray_index\n",
      "DBZH\n",
      "DBZV\n",
      "VELH\n",
      "VELV\n"
     ]
    }
   ],
   "source": [
    "for i in datafile.variables:\n",
    "    print(i)"
   ]
  },
  {
   "cell_type": "code",
   "execution_count": 15,
   "metadata": {},
   "outputs": [],
   "source": [
    "lati=datafile.variables['latitude'][:].data\n",
    "\n",
    "longi=datafile.variables['longitude'][:].data"
   ]
  },
  {
   "cell_type": "code",
   "execution_count": 16,
   "metadata": {},
   "outputs": [
    {
     "data": {
      "text/plain": [
       "(array(73.86896515), array(18.04290009))"
      ]
     },
     "execution_count": 16,
     "metadata": {},
     "output_type": "execute_result"
    }
   ],
   "source": [
    "longi,lati"
   ]
  },
  {
   "cell_type": "code",
   "execution_count": 17,
   "metadata": {},
   "outputs": [
    {
     "ename": "NameError",
     "evalue": "name 'R' is not defined",
     "output_type": "error",
     "traceback": [
      "\u001b[0;31m---------------------------------------------------------------------------\u001b[0m",
      "\u001b[0;31mNameError\u001b[0m                                 Traceback (most recent call last)",
      "\u001b[0;32m<ipython-input-17-ad5b0148be67>\u001b[0m in \u001b[0;36m<module>\u001b[0;34m\u001b[0m\n\u001b[0;32m----> 1\u001b[0;31m \u001b[0mplt\u001b[0m\u001b[0;34m.\u001b[0m\u001b[0mpcolormesh\u001b[0m\u001b[0;34m(\u001b[0m\u001b[0mlongi\u001b[0m\u001b[0;34m,\u001b[0m\u001b[0mlati\u001b[0m\u001b[0;34m,\u001b[0m\u001b[0mR\u001b[0m\u001b[0;34m)\u001b[0m\u001b[0;34m\u001b[0m\u001b[0;34m\u001b[0m\u001b[0m\n\u001b[0m",
      "\u001b[0;31mNameError\u001b[0m: name 'R' is not defined"
     ]
    }
   ],
   "source": [
    "plt.pcolormesh(longi,lati,R)"
   ]
  },
  {
   "cell_type": "code",
   "execution_count": null,
   "metadata": {},
   "outputs": [],
   "source": [
    "pd.DataFrame(data_dbz)"
   ]
  },
  {
   "cell_type": "code",
   "execution_count": null,
   "metadata": {},
   "outputs": [],
   "source": [
    "data_dbz[data_dbz==-3.2768e+04]=np.nan"
   ]
  },
  {
   "cell_type": "code",
   "execution_count": null,
   "metadata": {},
   "outputs": [],
   "source": [
    "clr=np.linspace(0,25,5)\n",
    "cb=plt.contourf(data_dbz,clr,cmap='jet',extend='both')\n",
    "plt.colorbar(cb)"
   ]
  },
  {
   "cell_type": "code",
   "execution_count": 4,
   "metadata": {},
   "outputs": [],
   "source": [
    "b=1.4\n",
    "a=300"
   ]
  },
  {
   "cell_type": "code",
   "execution_count": null,
   "metadata": {},
   "outputs": [],
   "source": [
    "z=data_dbz.copy()"
   ]
  },
  {
   "cell_type": "code",
   "execution_count": 9,
   "metadata": {},
   "outputs": [
    {
     "ename": "NameError",
     "evalue": "name 'z' is not defined",
     "output_type": "error",
     "traceback": [
      "\u001b[0;31m---------------------------------------------------------------------------\u001b[0m",
      "\u001b[0;31mNameError\u001b[0m                                 Traceback (most recent call last)",
      "\u001b[0;32m<ipython-input-9-9a80094191a8>\u001b[0m in \u001b[0;36m<module>\u001b[0;34m\u001b[0m\n\u001b[0;32m----> 1\u001b[0;31m \u001b[0mR\u001b[0m\u001b[0;34m=\u001b[0m\u001b[0;34m(\u001b[0m\u001b[0mz\u001b[0m\u001b[0;34m/\u001b[0m\u001b[0ma\u001b[0m\u001b[0;34m)\u001b[0m\u001b[0;34m**\u001b[0m\u001b[0;34m(\u001b[0m\u001b[0;36m1\u001b[0m\u001b[0;34m/\u001b[0m\u001b[0mb\u001b[0m\u001b[0;34m)\u001b[0m\u001b[0;34m\u001b[0m\u001b[0;34m\u001b[0m\u001b[0m\n\u001b[0m",
      "\u001b[0;31mNameError\u001b[0m: name 'z' is not defined"
     ]
    }
   ],
   "source": [
    "R=(z/a)**(1/b)"
   ]
  },
  {
   "cell_type": "code",
   "execution_count": null,
   "metadata": {},
   "outputs": [],
   "source": [
    "R.shape\n"
   ]
  },
  {
   "cell_type": "code",
   "execution_count": 8,
   "metadata": {},
   "outputs": [
    {
     "ename": "NameError",
     "evalue": "name 'R' is not defined",
     "output_type": "error",
     "traceback": [
      "\u001b[0;31m---------------------------------------------------------------------------\u001b[0m",
      "\u001b[0;31mNameError\u001b[0m                                 Traceback (most recent call last)",
      "\u001b[0;32m<ipython-input-8-05b5bebe00ff>\u001b[0m in \u001b[0;36m<module>\u001b[0;34m\u001b[0m\n\u001b[0;32m----> 1\u001b[0;31m \u001b[0mplt\u001b[0m\u001b[0;34m.\u001b[0m\u001b[0mcontourf\u001b[0m\u001b[0;34m(\u001b[0m\u001b[0mR\u001b[0m\u001b[0;34m)\u001b[0m\u001b[0;34m\u001b[0m\u001b[0;34m\u001b[0m\u001b[0m\n\u001b[0m",
      "\u001b[0;31mNameError\u001b[0m: name 'R' is not defined"
     ]
    }
   ],
   "source": [
    "plt.contourf(R)"
   ]
  },
  {
   "cell_type": "code",
   "execution_count": null,
   "metadata": {},
   "outputs": [],
   "source": [
    "data_dbz=datafile.variables['DBZH'][:].data"
   ]
  },
  {
   "cell_type": "markdown",
   "metadata": {},
   "source": [
    "R_ratefile=nc.Dataset('/Users/rizvi/Downloads/Rainrate1.nc', 'w', format='NETCDF4')\n",
    "lon=R_ratefile.createDimension(\"x\",2500)\n",
    "lat=R_ratefile.createDimension(\"y\",9270)\n",
    "v = R_ratefile.createVariable('Rainrate','f8',(\"y\",\"x\"))\n",
    "v[:]=R\n",
    "\n"
   ]
  },
  {
   "cell_type": "code",
   "execution_count": null,
   "metadata": {},
   "outputs": [],
   "source": [
    "fn = 'rainrate.nc'\n",
    "ds = nc.Dataset(fn, 'w', format='NETCDF4')\n",
    "\n",
    "time = ds.createDimension('time', None)\n",
    "lat = ds.createDimension('lat', 9270)\n",
    "lon = ds.createDimension('lon', 2500)\n",
    "\n",
    "times = ds.createVariable('time', 'f4', ('time',))\n",
    "lats = ds.createVariable('lat', 'f4', ('lat',))\n",
    "lons = ds.createVariable('lon', 'f4', ('lon',))\n",
    "rrate = ds.createVariable('rrate', 'f8', ('time', 'lat', 'lon',))\n",
    "rrate.units = 'mm/hr'\n",
    "\n",
    "lats[:] = np.arange(16.9,19.3, .5)\n",
    "lons[:] = np.arange(72.6,75, .5)\n",
    "\n",
    "print('var size before adding data', value.shape)\n",
    "\n",
    "value[0, :, :] = np.random.uniform(0, 100, size=(9270, 2500))\n",
    "\n",
    "print('var size after adding first data', value.shape)\n",
    "xval = np.linspace(0.5, 5.0, 10)\n",
    "yval = np.linspace(0.5, 5.0, 10)\n",
    "value[1, :, :] = np.array(xval.reshape(-1, 1) + yval)\n",
    "\n",
    "print('var size after adding second data', value.shape)\n",
    "\n",
    "ds.close()"
   ]
  },
  {
   "cell_type": "code",
   "execution_count": null,
   "metadata": {},
   "outputs": [],
   "source": [
    "pd.DataFrame(R)"
   ]
  },
  {
   "cell_type": "code",
   "execution_count": null,
   "metadata": {},
   "outputs": [],
   "source": [
    "(pd.DataFrame(R)).to_csv('Rainfall_rate.csv')"
   ]
  },
  {
   "cell_type": "code",
   "execution_count": null,
   "metadata": {},
   "outputs": [],
   "source": [
    "clr_rb=np.linspace(0,0.25,7)\n",
    "rb=plt.contourf(R,clr_rb,cmap='jet',extend='both')\n",
    "plt.colorbar(rb)\n",
    "plt.title('Rainrate')"
   ]
  },
  {
   "cell_type": "code",
   "execution_count": null,
   "metadata": {},
   "outputs": [],
   "source": [
    "display.plot_ppi_map('DBZH')"
   ]
  },
  {
   "cell_type": "code",
   "execution_count": null,
   "metadata": {},
   "outputs": [],
   "source": [
    "#masked=datafile.variables['DBZH'][:].mask"
   ]
  },
  {
   "cell_type": "code",
   "execution_count": null,
   "metadata": {},
   "outputs": [],
   "source": [
    "#=data_dbz*masked"
   ]
  },
  {
   "cell_type": "code",
   "execution_count": null,
   "metadata": {},
   "outputs": [],
   "source": [
    "#plt.contourf(c)"
   ]
  },
  {
   "cell_type": "code",
   "execution_count": null,
   "metadata": {},
   "outputs": [],
   "source": [
    "#c"
   ]
  },
  {
   "cell_type": "code",
   "execution_count": null,
   "metadata": {},
   "outputs": [],
   "source": [
    "#c.shape"
   ]
  },
  {
   "cell_type": "code",
   "execution_count": null,
   "metadata": {},
   "outputs": [],
   "source": [
    "#pd.DataFrame(c)"
   ]
  },
  {
   "cell_type": "code",
   "execution_count": null,
   "metadata": {},
   "outputs": [],
   "source": [
    "#c[c==-32768]=np.nan"
   ]
  },
  {
   "cell_type": "code",
   "execution_count": null,
   "metadata": {},
   "outputs": [],
   "source": [
    "#((pd.DataFrame(c)).min()).max()"
   ]
  },
  {
   "cell_type": "code",
   "execution_count": null,
   "metadata": {},
   "outputs": [],
   "source": [
    "#cb=plt.contourf(c)\n",
    "#plt.colorbar(cb)"
   ]
  },
  {
   "cell_type": "code",
   "execution_count": null,
   "metadata": {},
   "outputs": [],
   "source": []
  }
 ],
 "metadata": {
  "kernelspec": {
   "display_name": "Python 3",
   "language": "python",
   "name": "python3"
  },
  "language_info": {
   "codemirror_mode": {
    "name": "ipython",
    "version": 3
   },
   "file_extension": ".py",
   "mimetype": "text/x-python",
   "name": "python",
   "nbconvert_exporter": "python",
   "pygments_lexer": "ipython3",
   "version": "3.8.6"
  }
 },
 "nbformat": 4,
 "nbformat_minor": 4
}
