{
 "cells": [
  {
   "cell_type": "code",
   "execution_count": 5,
   "metadata": {},
   "outputs": [],
   "source": [
    "import netCDF4 as nc\n",
    "import plotly\n",
    "import plotly.graph_objects as go\n",
    "import plotly.express as px\n",
    "import pandas as pd"
   ]
  },
  {
   "cell_type": "code",
   "execution_count": 6,
   "metadata": {},
   "outputs": [
    {
     "data": {
      "text/plain": [
       "<class 'netCDF4._netCDF4.Dataset'>\n",
       "root group (NETCDF3_CLASSIC data model, file format NETCDF3):\n",
       "    Conventions: Cf/Radial instrument_parameters radar_parameters\n",
       "    title: PPIVol\n",
       "    institution: EEC\n",
       "    references: EEC\n",
       "    source: EDGE\n",
       "    history: original\n",
       "    comment: PPIVol\n",
       "    instrument_name: MDV\n",
       "    site_name: MDV\n",
       "    n_gates_vary: false\n",
       "    dimensions(sizes): time(9270), range(2500), sweep(18), frequency(1), string_length_sm(10), string_length_md(25)\n",
       "    variables(dimensions): int32 volume_number(), float64 latitude(), float64 longitude(), float64 altitude(), |S1 time_coverage_start(string_length_md), |S1 time_coverage_end(string_length_md), float64 time(time), float32 azimuth(time), float32 elevation(time), float32 radar_antenna_gain_h(), float32 radar_antenna_gain_v(), float32 radar_beam_width_h(), float32 radar_beam_width_v(), float32 radar_receiver_bandwidth(), float32 frequency(frequency), float32 radar_measured_transmit_power_h(time), float32 radar_measured_transmit_power_v(time), float32 pulse_width(time), float32 prt(time), float32 prt_ratio(time), float32 nyquist_velocity(time), int32 n_samples(time), |S1 prt_mode(sweep, string_length_sm), |S1 polarization_mode(sweep, string_length_sm), float32 range(range), int32 sweep_number(sweep), |S1 sweep_mode(sweep, string_length_sm), float32 fixed_angle(sweep), int32 sweep_start_ray_index(sweep), int32 sweep_end_ray_index(sweep), int16 DBZH(time, range), int16 DBZV(time, range), int16 VELH(time, range), int16 VELV(time, range)\n",
       "    groups: "
      ]
     },
     "execution_count": 6,
     "metadata": {},
     "output_type": "execute_result"
    }
   ],
   "source": [
    "df = nc.Dataset('MDV-20150805-143535-PPIVol.nc')\n",
    "df"
   ]
  },
  {
   "cell_type": "code",
   "execution_count": 8,
   "metadata": {},
   "outputs": [
    {
     "name": "stdout",
     "output_type": "stream",
     "text": [
      "volume_number\n",
      "latitude\n",
      "longitude\n",
      "altitude\n",
      "time_coverage_start\n",
      "time_coverage_end\n",
      "time\n",
      "azimuth\n",
      "elevation\n",
      "radar_antenna_gain_h\n",
      "radar_antenna_gain_v\n",
      "radar_beam_width_h\n",
      "radar_beam_width_v\n",
      "radar_receiver_bandwidth\n",
      "frequency\n",
      "radar_measured_transmit_power_h\n",
      "radar_measured_transmit_power_v\n",
      "pulse_width\n",
      "prt\n",
      "prt_ratio\n",
      "nyquist_velocity\n",
      "n_samples\n",
      "prt_mode\n",
      "polarization_mode\n",
      "range\n",
      "sweep_number\n",
      "sweep_mode\n",
      "fixed_angle\n",
      "sweep_start_ray_index\n",
      "sweep_end_ray_index\n",
      "DBZH\n",
      "DBZV\n",
      "VELH\n",
      "VELV\n"
     ]
    }
   ],
   "source": [
    "for i in df.variables:\n",
    "    print(i)"
   ]
  },
  {
   "cell_type": "code",
   "execution_count": null,
   "metadata": {},
   "outputs": [],
   "source": [
    "z = df.variables['DBZH'][:].data\n",
    "r = df.variables['range'][:].data\n",
    "theta = z.copy\n",
    "r.shape"
   ]
  },
  {
   "cell_type": "code",
   "execution_count": 17,
   "metadata": {},
   "outputs": [
    {
     "ename": "ValueError",
     "evalue": "The first argument to the plotly.graph_objs.Scatterpolar \nconstructor must be a dict or \nan instance of :class:`plotly.graph_objs.Scatterpolar`",
     "output_type": "error",
     "traceback": [
      "\u001b[0;31m---------------------------------------------------------------------------\u001b[0m",
      "\u001b[0;31mValueError\u001b[0m                                Traceback (most recent call last)",
      "\u001b[0;32m<ipython-input-17-bc592167d5dc>\u001b[0m in \u001b[0;36m<module>\u001b[0;34m\u001b[0m\n\u001b[0;32m----> 1\u001b[0;31m fig = go.Figure(data=go.Scatterpolar(\n\u001b[0m\u001b[1;32m      2\u001b[0m   \u001b[0mr\u001b[0m\u001b[0;34m,\u001b[0m\u001b[0;34m\u001b[0m\u001b[0;34m\u001b[0m\u001b[0m\n\u001b[1;32m      3\u001b[0m   \u001b[0mtheta\u001b[0m\u001b[0;34m,\u001b[0m\u001b[0;34m\u001b[0m\u001b[0;34m\u001b[0m\u001b[0m\n\u001b[1;32m      4\u001b[0m   \u001b[0mfill\u001b[0m\u001b[0;34m=\u001b[0m\u001b[0;34m'toself'\u001b[0m\u001b[0;34m\u001b[0m\u001b[0;34m\u001b[0m\u001b[0m\n\u001b[1;32m      5\u001b[0m ))\n",
      "\u001b[0;32m/opt/anaconda3/lib/python3.8/site-packages/plotly/graph_objs/_scatterpolar.py\u001b[0m in \u001b[0;36m__init__\u001b[0;34m(self, arg, cliponaxis, connectgaps, customdata, customdatasrc, dr, dtheta, fill, fillcolor, hoverinfo, hoverinfosrc, hoverlabel, hoveron, hovertemplate, hovertemplatesrc, hovertext, hovertextsrc, ids, idssrc, legendgroup, line, marker, meta, metasrc, mode, name, opacity, r, r0, rsrc, selected, selectedpoints, showlegend, stream, subplot, text, textfont, textposition, textpositionsrc, textsrc, texttemplate, texttemplatesrc, theta, theta0, thetasrc, thetaunit, uid, uirevision, unselected, visible, **kwargs)\u001b[0m\n\u001b[1;32m   2089\u001b[0m             \u001b[0marg\u001b[0m \u001b[0;34m=\u001b[0m \u001b[0m_copy\u001b[0m\u001b[0;34m.\u001b[0m\u001b[0mcopy\u001b[0m\u001b[0;34m(\u001b[0m\u001b[0marg\u001b[0m\u001b[0;34m)\u001b[0m\u001b[0;34m\u001b[0m\u001b[0;34m\u001b[0m\u001b[0m\n\u001b[1;32m   2090\u001b[0m         \u001b[0;32melse\u001b[0m\u001b[0;34m:\u001b[0m\u001b[0;34m\u001b[0m\u001b[0;34m\u001b[0m\u001b[0m\n\u001b[0;32m-> 2091\u001b[0;31m             raise ValueError(\n\u001b[0m\u001b[1;32m   2092\u001b[0m                 \"\"\"\\\n\u001b[1;32m   2093\u001b[0m \u001b[0mThe\u001b[0m \u001b[0mfirst\u001b[0m \u001b[0margument\u001b[0m \u001b[0mto\u001b[0m \u001b[0mthe\u001b[0m \u001b[0mplotly\u001b[0m\u001b[0;34m.\u001b[0m\u001b[0mgraph_objs\u001b[0m\u001b[0;34m.\u001b[0m\u001b[0mScatterpolar\u001b[0m\u001b[0;34m\u001b[0m\u001b[0;34m\u001b[0m\u001b[0m\n",
      "\u001b[0;31mValueError\u001b[0m: The first argument to the plotly.graph_objs.Scatterpolar \nconstructor must be a dict or \nan instance of :class:`plotly.graph_objs.Scatterpolar`"
     ]
    }
   ],
   "source": [
    "fig = go.Figure(data=go.Scatterpolar(\n",
    "  r,\n",
    "  theta,\n",
    "  fill='toself'\n",
    "))\n",
    "\n",
    "fig.update_layout(\n",
    "  polar=dict(\n",
    "    radialaxis=dict(\n",
    "      visible=True\n",
    "    ),\n",
    "  ),\n",
    "  showlegend=False\n",
    ")\n",
    "\n",
    "fig.show()"
   ]
  },
  {
   "cell_type": "code",
   "execution_count": null,
   "metadata": {},
   "outputs": [],
   "source": []
  }
 ],
 "metadata": {
  "kernelspec": {
   "display_name": "Python 3",
   "language": "python",
   "name": "python3"
  },
  "language_info": {
   "codemirror_mode": {
    "name": "ipython",
    "version": 3
   },
   "file_extension": ".py",
   "mimetype": "text/x-python",
   "name": "python",
   "nbconvert_exporter": "python",
   "pygments_lexer": "ipython3",
   "version": "3.8.6"
  }
 },
 "nbformat": 4,
 "nbformat_minor": 4
}
