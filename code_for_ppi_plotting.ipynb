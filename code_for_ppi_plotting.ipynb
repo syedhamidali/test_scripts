{
 "cells": [
  {
   "cell_type": "code",
   "execution_count": 2,
   "metadata": {},
   "outputs": [
    {
     "name": "stdout",
     "output_type": "stream",
     "text": [
      "\n",
      "## You are using the Python ARM Radar Toolkit (Py-ART), an open source\n",
      "## library for working with weather radar data. Py-ART is partly\n",
      "## supported by the U.S. Department of Energy as part of the Atmospheric\n",
      "## Radiation Measurement (ARM) Climate Research Facility, an Office of\n",
      "## Science user facility.\n",
      "##\n",
      "## If you use this software to prepare a publication, please cite:\n",
      "##\n",
      "##     JJ Helmus and SM Collis, JORS 2016, doi: 10.5334/jors.119\n",
      "\n"
     ]
    }
   ],
   "source": [
    "import netCDF4 as nc\n",
    "import numpy as np\n",
    "import matplotlib.pyplot as plt\n",
    "import cartopy.crs as ccrs\n",
    "import pyart"
   ]
  },
  {
   "cell_type": "code",
   "execution_count": 3,
   "metadata": {},
   "outputs": [
    {
     "name": "stdout",
     "output_type": "stream",
     "text": [
      "altitude: <ndarray of type: float64 and shape: (1,)>\n",
      "altitude_agl: None\n",
      "antenna_transition: None\n",
      "azimuth: <ndarray of type: float32 and shape: (9270,)>\n",
      "elevation: <ndarray of type: float32 and shape: (9270,)>\n",
      "fields:\n",
      "\tDBZH: <ndarray of type: float32 and shape: (9270, 2500)>\n",
      "\tDBZV: <ndarray of type: float32 and shape: (9270, 2500)>\n",
      "\tVELH: <ndarray of type: float32 and shape: (9270, 2500)>\n",
      "\tVELV: <ndarray of type: float32 and shape: (9270, 2500)>\n",
      "fixed_angle: <ndarray of type: float32 and shape: (18,)>\n",
      "instrument_parameters:\n",
      "\tfrequency: <ndarray of type: float32 and shape: (1,)>\n",
      "\tpulse_width: <ndarray of type: float32 and shape: (9270,)>\n",
      "\tprt_mode: <ndarray of type: |S1 and shape: (18, 10)>\n",
      "\tprt: <ndarray of type: float32 and shape: (9270,)>\n",
      "\tprt_ratio: <ndarray of type: float32 and shape: (9270,)>\n",
      "\tpolarization_mode: <ndarray of type: |S1 and shape: (18, 10)>\n",
      "\tnyquist_velocity: <ndarray of type: float32 and shape: (9270,)>\n",
      "\tn_samples: <ndarray of type: int32 and shape: (9270,)>\n",
      "\tradar_antenna_gain_h: <ndarray of type: float32 and shape: (1,)>\n",
      "\tradar_antenna_gain_v: <ndarray of type: float32 and shape: (1,)>\n",
      "\tradar_beam_width_h: <ndarray of type: float32 and shape: (1,)>\n",
      "\tradar_beam_width_v: <ndarray of type: float32 and shape: (1,)>\n",
      "\tradar_receiver_bandwidth: <ndarray of type: float32 and shape: (1,)>\n",
      "\tradar_measured_transmit_power_h: <ndarray of type: float32 and shape: (9270,)>\n",
      "\tradar_measured_transmit_power_v: <ndarray of type: float32 and shape: (9270,)>\n",
      "latitude: <ndarray of type: float64 and shape: (1,)>\n",
      "longitude: <ndarray of type: float64 and shape: (1,)>\n",
      "nsweeps: 18\n",
      "ngates: 2500\n",
      "nrays: 9270\n",
      "radar_calibration: None\n",
      "range: <ndarray of type: float32 and shape: (2500,)>\n",
      "scan_rate: None\n",
      "scan_type: ppi\n",
      "sweep_end_ray_index: <ndarray of type: int32 and shape: (18,)>\n",
      "sweep_mode: <ndarray of type: |S1 and shape: (18, 10)>\n",
      "sweep_number: <ndarray of type: int32 and shape: (18,)>\n",
      "sweep_start_ray_index: <ndarray of type: int32 and shape: (18,)>\n",
      "target_scan_rate: None\n",
      "time: <ndarray of type: float64 and shape: (9270,)>\n",
      "metadata:\n",
      "\tConventions: Cf/Radial instrument_parameters radar_parameters\n",
      "\ttitle: PPIVol\n",
      "\tinstitution: EEC\n",
      "\treferences: EEC\n",
      "\tsource: EDGE\n",
      "\thistory: original\n",
      "\tcomment: PPIVol\n",
      "\tinstrument_name: MDV\n",
      "\tsite_name: MDV\n",
      "\tn_gates_vary: false\n",
      "\tvolume_number: 1\n",
      "\tplatform_type: fixed\n",
      "\tinstrument_type: radar\n",
      "\tprimary_axis: axis_z\n"
     ]
    }
   ],
   "source": [
    "filename = 'MDV-20150805-143535-PPIVol.nc'\n",
    "radar = pyart.io.read(filename)\n",
    "radar.info('compact')"
   ]
  },
  {
   "cell_type": "code",
   "execution_count": 4,
   "metadata": {},
   "outputs": [
    {
     "data": {
      "text/plain": [
       "dict_keys(['DBZH', 'DBZV', 'VELH', 'VELV'])"
      ]
     },
     "execution_count": 4,
     "metadata": {},
     "output_type": "execute_result"
    }
   ],
   "source": [
    "radar.fields.keys()"
   ]
  },
  {
   "cell_type": "code",
   "execution_count": 1,
   "metadata": {
    "scrolled": false
   },
   "outputs": [
    {
     "ename": "NameError",
     "evalue": "name 'plt' is not defined",
     "output_type": "error",
     "traceback": [
      "\u001b[0;31m---------------------------------------------------------------------------\u001b[0m",
      "\u001b[0;31mNameError\u001b[0m                                 Traceback (most recent call last)",
      "\u001b[0;32m<ipython-input-1-2942300bd29b>\u001b[0m in \u001b[0;36m<module>\u001b[0;34m\u001b[0m\n\u001b[0;32m----> 1\u001b[0;31m \u001b[0mfig\u001b[0m \u001b[0;34m=\u001b[0m \u001b[0mplt\u001b[0m\u001b[0;34m.\u001b[0m\u001b[0mfigure\u001b[0m\u001b[0;34m(\u001b[0m\u001b[0;34m)\u001b[0m\u001b[0;34m\u001b[0m\u001b[0;34m\u001b[0m\u001b[0m\n\u001b[0m\u001b[1;32m      2\u001b[0m \u001b[0;31m# fig.subplots_adjust(wspace= 0.25, hspace= 0.25)\u001b[0m\u001b[0;34m\u001b[0m\u001b[0;34m\u001b[0m\u001b[0;34m\u001b[0m\u001b[0m\n\u001b[1;32m      3\u001b[0m \u001b[0;32mfor\u001b[0m \u001b[0mi\u001b[0m \u001b[0;32min\u001b[0m \u001b[0mrange\u001b[0m\u001b[0;34m(\u001b[0m\u001b[0;36m5\u001b[0m\u001b[0;34m)\u001b[0m\u001b[0;34m:\u001b[0m\u001b[0;34m\u001b[0m\u001b[0;34m\u001b[0m\u001b[0m\n\u001b[1;32m      4\u001b[0m     \u001b[0mdisplay\u001b[0m \u001b[0;34m=\u001b[0m \u001b[0mpyart\u001b[0m\u001b[0;34m.\u001b[0m\u001b[0mgraph\u001b[0m\u001b[0;34m.\u001b[0m\u001b[0mRadarMapDisplay\u001b[0m\u001b[0;34m(\u001b[0m\u001b[0mradar\u001b[0m\u001b[0;34m)\u001b[0m\u001b[0;34m\u001b[0m\u001b[0;34m\u001b[0m\u001b[0m\n\u001b[1;32m      5\u001b[0m     display.plot_ppi_map('DBZH',i, \n",
      "\u001b[0;31mNameError\u001b[0m: name 'plt' is not defined"
     ]
    }
   ],
   "source": [
    "fig = plt.figure()\n",
    "# fig.subplots_adjust(wspace= 0.25, hspace= 0.25)\n",
    "for i in range(5):\n",
    "    display = pyart.graph.RadarMapDisplay(radar)\n",
    "    display.plot_ppi_map('DBZH',i, \n",
    "                         min_lon=72.2, max_lon=75.6, \n",
    "                         min_lat=16.5, max_lat=19.5,\n",
    "                         lon_lines=np.arange(72,75.5, .5), \n",
    "                         lat_lines=np.arange(16.5,19.5, .5),\n",
    "                         resolution='10m', fig=fig, cmap='jet',\n",
    "                         lat_0=radar.latitude['data'][0],\n",
    "                         lon_0=radar.longitude['data'][0])\n",
    "\n",
    "    display.plot_range_ring(30., line_style='k-')\n",
    "    display.plot_range_ring(60., line_style='k--')\n",
    "    display.plot_range_ring(90., line_style='k-')\n",
    "    display.plot_range_ring(120., line_style='k--')\n",
    "    display.plot_range_ring(150., line_style='k-')\n",
    "    #plt.savefig('sweep_[i]')"
   ]
  },
  {
   "cell_type": "code",
   "execution_count": null,
   "metadata": {},
   "outputs": [],
   "source": []
  },
  {
   "cell_type": "code",
   "execution_count": null,
   "metadata": {},
   "outputs": [],
   "source": []
  }
 ],
 "metadata": {
  "kernelspec": {
   "display_name": "Python 3",
   "language": "python",
   "name": "python3"
  },
  "language_info": {
   "codemirror_mode": {
    "name": "ipython",
    "version": 3
   },
   "file_extension": ".py",
   "mimetype": "text/x-python",
   "name": "python",
   "nbconvert_exporter": "python",
   "pygments_lexer": "ipython3",
   "version": "3.8.8"
  }
 },
 "nbformat": 4,
 "nbformat_minor": 4
}
