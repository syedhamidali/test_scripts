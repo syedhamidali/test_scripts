{
 "cells": [
  {
   "cell_type": "code",
   "execution_count": 8,
   "metadata": {},
   "outputs": [
    {
     "ename": "ModuleNotFoundError",
     "evalue": "No module named '__version'",
     "output_type": "error",
     "traceback": [
      "\u001b[0;31m---------------------------------------------------------------------------\u001b[0m",
      "\u001b[0;31mModuleNotFoundError\u001b[0m                       Traceback (most recent call last)",
      "\u001b[0;32m/opt/anaconda3/lib/python3.8/site-packages/pytrmm/__init__.py\u001b[0m in \u001b[0;36m<module>\u001b[0;34m\u001b[0m\n\u001b[1;32m      5\u001b[0m \u001b[0;32mtry\u001b[0m\u001b[0;34m:\u001b[0m\u001b[0;34m\u001b[0m\u001b[0;34m\u001b[0m\u001b[0m\n\u001b[0;32m----> 6\u001b[0;31m     \u001b[0;32mfrom\u001b[0m \u001b[0m__dev_version\u001b[0m \u001b[0;32mimport\u001b[0m \u001b[0mversion\u001b[0m \u001b[0;32mas\u001b[0m \u001b[0m__version__\u001b[0m\u001b[0;34m\u001b[0m\u001b[0;34m\u001b[0m\u001b[0m\n\u001b[0m\u001b[1;32m      7\u001b[0m     \u001b[0;32mfrom\u001b[0m \u001b[0m__dev_version\u001b[0m \u001b[0;32mimport\u001b[0m \u001b[0mgit_revision\u001b[0m \u001b[0;32mas\u001b[0m \u001b[0m__git_revision__\u001b[0m\u001b[0;34m\u001b[0m\u001b[0;34m\u001b[0m\u001b[0m\n",
      "\u001b[0;31mModuleNotFoundError\u001b[0m: No module named '__dev_version'",
      "\nDuring handling of the above exception, another exception occurred:\n",
      "\u001b[0;31mModuleNotFoundError\u001b[0m                       Traceback (most recent call last)",
      "\u001b[0;32m<ipython-input-8-e994c541c6b1>\u001b[0m in \u001b[0;36m<module>\u001b[0;34m\u001b[0m\n\u001b[1;32m      1\u001b[0m \u001b[0;32mimport\u001b[0m \u001b[0mdatetime\u001b[0m \u001b[0;32mas\u001b[0m \u001b[0mdt\u001b[0m\u001b[0;34m\u001b[0m\u001b[0;34m\u001b[0m\u001b[0m\n\u001b[0;32m----> 2\u001b[0;31m \u001b[0;32mfrom\u001b[0m \u001b[0mpytrmm\u001b[0m \u001b[0;32mimport\u001b[0m \u001b[0mTRMM3B42RTFile\u001b[0m\u001b[0;34m\u001b[0m\u001b[0;34m\u001b[0m\u001b[0m\n\u001b[0m\u001b[1;32m      3\u001b[0m \u001b[0;32mfrom\u001b[0m \u001b[0mmatplotlib\u001b[0m \u001b[0;32mimport\u001b[0m \u001b[0mpyplot\u001b[0m \u001b[0;32mas\u001b[0m \u001b[0mplt\u001b[0m\u001b[0;34m\u001b[0m\u001b[0;34m\u001b[0m\u001b[0m\n\u001b[1;32m      4\u001b[0m \u001b[0;32mfrom\u001b[0m \u001b[0mmpl_toolkits\u001b[0m\u001b[0;34m.\u001b[0m\u001b[0mbasemap\u001b[0m \u001b[0;32mimport\u001b[0m \u001b[0mBasemap\u001b[0m\u001b[0;34m\u001b[0m\u001b[0;34m\u001b[0m\u001b[0m\n",
      "\u001b[0;32m/opt/anaconda3/lib/python3.8/site-packages/pytrmm/__init__.py\u001b[0m in \u001b[0;36m<module>\u001b[0;34m\u001b[0m\n\u001b[1;32m      7\u001b[0m     \u001b[0;32mfrom\u001b[0m \u001b[0m__dev_version\u001b[0m \u001b[0;32mimport\u001b[0m \u001b[0mgit_revision\u001b[0m \u001b[0;32mas\u001b[0m \u001b[0m__git_revision__\u001b[0m\u001b[0;34m\u001b[0m\u001b[0;34m\u001b[0m\u001b[0m\n\u001b[1;32m      8\u001b[0m \u001b[0;32mexcept\u001b[0m \u001b[0mImportError\u001b[0m\u001b[0;34m:\u001b[0m\u001b[0;34m\u001b[0m\u001b[0;34m\u001b[0m\u001b[0m\n\u001b[0;32m----> 9\u001b[0;31m     \u001b[0;32mfrom\u001b[0m \u001b[0m__version\u001b[0m \u001b[0;32mimport\u001b[0m \u001b[0mversion\u001b[0m \u001b[0;32mas\u001b[0m \u001b[0m__version__\u001b[0m\u001b[0;34m\u001b[0m\u001b[0;34m\u001b[0m\u001b[0m\n\u001b[0m\u001b[1;32m     10\u001b[0m     \u001b[0;32mfrom\u001b[0m \u001b[0m__version\u001b[0m \u001b[0;32mimport\u001b[0m \u001b[0mgit_revision\u001b[0m \u001b[0;32mas\u001b[0m \u001b[0m__git_revision__\u001b[0m\u001b[0;34m\u001b[0m\u001b[0;34m\u001b[0m\u001b[0m\n\u001b[1;32m     11\u001b[0m \u001b[0;34m\u001b[0m\u001b[0m\n",
      "\u001b[0;31mModuleNotFoundError\u001b[0m: No module named '__version'"
     ]
    }
   ],
   "source": [
    "import datetime as dt\n",
    "from pytrmm import TRMM3B42RTFile\n",
    "from matplotlib import pyplot as plt\n",
    "from mpl_toolkits.basemap import Basemap"
   ]
  },
  {
   "cell_type": "code",
   "execution_count": null,
   "metadata": {},
   "outputs": [],
   "source": [
    "# set file paths\n",
    "file_in = '3DIMG_05AUG2015_0000_L3G_IMR_DLY.h5'\n",
    "file_date = dt.datetime.strptime(file_in, '3DIMG_%d%m%Y_0000_L3G_IMR_DLY.h5')\n",
    "file_out = dt.datetime.strftime(file_date, '%Y%m%d.png')\n"
   ]
  },
  {
   "cell_type": "code",
   "execution_count": null,
   "metadata": {},
   "outputs": [],
   "source": [
    "# read trmm\n",
    "trmm_file = TRMM3B42RTFile(file_in)\n",
    "# extract precipitation data\n",
    "precip = trmm_file.precip()\n",
    "# mask negative values\n",
    "precip_masked = np.ma.masked_where(precip <= 0, precip)\n",
    "# initialize basemap\n",
    "# NOTE: TRMM data runs from 60N to 60S, 0E to 360E\n",
    "m = Basemap(projection='merc',llcrnrlat=16.9,urcrnrlat=19.3,llcrnrlon=72.6,urcrnrlon=75,resolution='l')\n",
    "# create lat lon meshgrid\n",
    "# trmm array has a resolution of 480x1440, with each pixel at 0.25 degrees\n",
    "lons = np.arange(0, 360, 0.25)\n",
    "lats = np.arange(5, 40, -0.25)\n",
    "xs, ys = np.meshgrid(lons, lats)\n",
    "x, y = m(xs, ys)\n",
    "# generate meridians and parallels for plotting\n",
    "meridians = np.arange(0, 360, 5.)\n",
    "parallels = np.arange(5, 40, -5.)\n",
    "# plot\n",
    "cmap = plt.cm.jet\n",
    "cmap.set_bad(color='white')\n",
    "m.pcolormesh(x, y, precip_masked, cmap=cmap, vmax=25, vmin=0)\n",
    "m.colorbar(label='mm/hr')\n",
    "m.drawcoastlines()\n",
    "m.drawmeridians(meridians, labels=[1,0,0,1])\n",
    "m.drawparallels(parallels, labels=[1,0,0,1])\n",
    "plt.title('TRMM Rain-Rate (mm/hr)\\n'+str(file_date)+' UTC+0')\n",
    "# show\n",
    "plt.show()"
   ]
  }
 ],
 "metadata": {
  "kernelspec": {
   "display_name": "Python 3",
   "language": "python",
   "name": "python3"
  },
  "language_info": {
   "codemirror_mode": {
    "name": "ipython",
    "version": 3
   },
   "file_extension": ".py",
   "mimetype": "text/x-python",
   "name": "python",
   "nbconvert_exporter": "python",
   "pygments_lexer": "ipython3",
   "version": "3.8.6"
  }
 },
 "nbformat": 4,
 "nbformat_minor": 4
}
