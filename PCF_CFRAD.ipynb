{
 "cells": [
  {
   "cell_type": "code",
   "execution_count": 1,
   "id": "a36f2281",
   "metadata": {},
   "outputs": [
    {
     "name": "stdout",
     "output_type": "stream",
     "text": [
      "\n",
      "## You are using the Python ARM Radar Toolkit (Py-ART), an open source\n",
      "## library for working with weather radar data. Py-ART is partly\n",
      "## supported by the U.S. Department of Energy as part of the Atmospheric\n",
      "## Radiation Measurement (ARM) Climate Research Facility, an Office of\n",
      "## Science user facility.\n",
      "##\n",
      "## If you use this software to prepare a publication, please cite:\n",
      "##\n",
      "##     JJ Helmus and SM Collis, JORS 2016, doi: 10.5334/jors.119\n",
      "\n",
      "\n",
      "## Cite PyScanCf:\n",
      "\n",
      "## Syed, H. A.,Sayyed, I., Kalapureddy, M. C. R., & Grandhi, K. K.(2021). \n",
      "## PyScanCf – The library for individual sweep datasets of IMD weather radars. \n",
      "## Zenodo. doi:10.5281/zenodo.5574160.\n",
      "\n"
     ]
    }
   ],
   "source": [
    "import os\n",
    "import glob\n",
    "import pyscancf as pcf"
   ]
  },
  {
   "cell_type": "code",
   "execution_count": 2,
   "id": "6dd2bd63",
   "metadata": {},
   "outputs": [],
   "source": [
    "input_dir = \"/Users/syed44/Downloads/Others/IMD_JAIPUR/JPR220822IMD-B/\"\n",
    "out_dir = \"/Users/syed44/Downloads/Others/IMD_JAIPUR/CFRAD_PCF/\""
   ]
  },
  {
   "cell_type": "code",
   "execution_count": 3,
   "id": "19350fe0",
   "metadata": {},
   "outputs": [
    {
     "name": "stdout",
     "output_type": "stream",
     "text": [
      "Number of files:  1210\n",
      "Total no. of output files: 121.\n",
      "Merging all scans into one Volume\n",
      "Data merging done \n",
      "Total Time Elapsed:  0:03:51.431087\n"
     ]
    }
   ],
   "source": [
    "pcf.cfrad(input_dir=input_dir, output_dir=out_dir, dualpol=True)"
   ]
  },
  {
   "cell_type": "code",
   "execution_count": null,
   "id": "078ac872",
   "metadata": {},
   "outputs": [],
   "source": []
  }
 ],
 "metadata": {
  "kernelspec": {
   "display_name": "Python 3 (ipykernel)",
   "language": "python",
   "name": "python3"
  },
  "language_info": {
   "codemirror_mode": {
    "name": "ipython",
    "version": 3
   },
   "file_extension": ".py",
   "mimetype": "text/x-python",
   "name": "python",
   "nbconvert_exporter": "python",
   "pygments_lexer": "ipython3",
   "version": "3.12.1"
  }
 },
 "nbformat": 4,
 "nbformat_minor": 5
}
