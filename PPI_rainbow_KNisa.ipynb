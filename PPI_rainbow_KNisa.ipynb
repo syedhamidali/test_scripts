{
 "cells": [
  {
   "cell_type": "markdown",
   "id": "83f2cd1d",
   "metadata": {},
   "source": [
    "# PseudoRHI (Xradar and Pyart)\n",
    "\n",
    "- Author: Hamid Ali Syed\n",
    "- Purpose: For Khairunnisa\n",
    "- Date: Nov 1, 2023"
   ]
  },
  {
   "cell_type": "code",
   "execution_count": 1,
   "id": "09b856b8",
   "metadata": {
    "scrolled": true
   },
   "outputs": [
    {
     "name": "stdout",
     "output_type": "stream",
     "text": [
      "\n",
      "## You are using the Python ARM Radar Toolkit (Py-ART), an open source\n",
      "## library for working with weather radar data. Py-ART is partly\n",
      "## supported by the U.S. Department of Energy as part of the Atmospheric\n",
      "## Radiation Measurement (ARM) Climate Research Facility, an Office of\n",
      "## Science user facility.\n",
      "##\n",
      "## If you use this software to prepare a publication, please cite:\n",
      "##\n",
      "##     JJ Helmus and SM Collis, JORS 2016, doi: 10.5334/jors.119\n",
      "\n"
     ]
    }
   ],
   "source": [
    "import os\n",
    "import pyart\n",
    "import xradar\n",
    "import cmweather\n",
    "import numpy as np\n",
    "import xarray as xr\n",
    "import cartopy.crs as ccrs\n",
    "import matplotlib.pyplot as plt"
   ]
  },
  {
   "cell_type": "code",
   "execution_count": 2,
   "id": "c434620d",
   "metadata": {},
   "outputs": [],
   "source": [
    "import warnings\n",
    "warnings.filterwarnings(\"ignore\")"
   ]
  },
  {
   "cell_type": "markdown",
   "id": "2abf56f5",
   "metadata": {},
   "source": [
    "## PPI"
   ]
  },
  {
   "cell_type": "code",
   "execution_count": 3,
   "id": "c000f6f2",
   "metadata": {},
   "outputs": [],
   "source": [
    "file1 = \"2021110309550500dBZ.vol\""
   ]
  },
  {
   "cell_type": "code",
   "execution_count": 4,
   "id": "903458a7",
   "metadata": {},
   "outputs": [],
   "source": [
    "dtree = xradar.io.open_rainbow_datatree(file1)"
   ]
  },
  {
   "cell_type": "code",
   "execution_count": 5,
   "id": "2e7f1430",
   "metadata": {},
   "outputs": [],
   "source": [
    "def correct_cfradial2(dtree):\n",
    "    data = np.array('axis_z', dtype='|S32')\n",
    "    attributes = {\n",
    "        'standard_name': 'primary_axis_of_rotation',\n",
    "        'options': 'axis_z, axis_y, axis_x'\n",
    "    }\n",
    "    # Create the xarray DataArray\n",
    "    dtree['primary_axis'] = xr.DataArray(data, attrs=attributes, dims=())\n",
    "    \n",
    "    fixed_angles = []\n",
    "    for grp in dtree.groups:\n",
    "        if \"sweep\" in grp:\n",
    "            fixed_angle = dtree[grp]['sweep_fixed_angle'].values\n",
    "            fixed_angles.append(fixed_angle)\n",
    "            dtree[grp]['sweep_mode'] = xr.DataArray(\n",
    "                np.array(dtree[grp]['sweep_mode'], dtype='|S32'),\n",
    "                attrs={'standard_name': 'scan_mode_for_sweep',\n",
    "     'options': 'sector, coplane, rhi, vertical_pointing, idle, azimuth_surveillance, \\\n",
    "     elevation_surveillance, sunscan, pointing, calibration, manual_ppi, manual_rhi'})\n",
    "    \n",
    "    fixed_angles = np.array(fixed_angles, dtype=np.float32)\n",
    "    sweep_groups = np.array([f'sweep_{i}' for i in range(fixed_angles.size)])\n",
    "    dtree['sweep_fixed_angle'] = xr.DataArray(fixed_angles, dims=('sweep'))\n",
    "    dtree['sweep_group_name'] = xr.DataArray(sweep_groups, dims=('sweep'))\n",
    "    dtree['volume_number'] = xr.DataArray(np.array(0, dtype=np.int16),\n",
    "                                      attrs={'standard_name':'data_volume_index_number'})\n",
    "    dtree['instrument_type'] = xr.DataArray(np.array('radar', dtype='|S32'),\n",
    "                                      attrs={'standard_name': 'type_of_instrument',\n",
    "                                             'options': 'radar, lidar',\n",
    "                                             'meta_group': 'instrument_parameters'}\n",
    "                                       )\n",
    "    dtree['platform_type'] = xr.DataArray(\n",
    "        np.array('fixed', dtype='|S32'),\n",
    "        attrs={'standard_name': 'platform_type',\n",
    "    'options':'fixed, vehicle, ship, aircraft_fore, aircraft_aft, aircraft_tail, aircraft_belly,\\\n",
    "    aircraft_roof, aircraft_nose, satellite_orbit, satellite_geostat'})\n",
    "    \n",
    "    return dtree"
   ]
  },
  {
   "cell_type": "code",
   "execution_count": 6,
   "id": "2aaa252f",
   "metadata": {},
   "outputs": [],
   "source": [
    "dtree = correct_cfradial2(dtree)"
   ]
  },
  {
   "cell_type": "code",
   "execution_count": 7,
   "id": "6283d7b7",
   "metadata": {},
   "outputs": [],
   "source": [
    "xradar.io.to_cfradial1(dtree, filename=None, calibs=True)"
   ]
  },
  {
   "cell_type": "code",
   "execution_count": 8,
   "id": "3df3239b",
   "metadata": {},
   "outputs": [],
   "source": [
    "radar = pyart.io.read_cfradial('cfrad1_None_20211103_095505.nc')"
   ]
  },
  {
   "cell_type": "code",
   "execution_count": 9,
   "id": "c9df69c9",
   "metadata": {},
   "outputs": [],
   "source": [
    "def find_nearest(array, value):\n",
    "    array = np.asarray(array)\n",
    "    idx = (np.abs(array - value)).argmin()\n",
    "    return array[idx]"
   ]
  },
  {
   "cell_type": "code",
   "execution_count": 10,
   "id": "10e645a8",
   "metadata": {
    "scrolled": true
   },
   "outputs": [],
   "source": [
    "import cartopy.crs as ccrs\n",
    "import cartopy.feature as feat\n",
    "from cartopy.mpl.gridliner import LONGITUDE_FORMATTER, LATITUDE_FORMATTER\n",
    "\n",
    "def add_map(ax, b = 0, t=0, l = 0, r = 0):\n",
    "    gl = ax.gridlines(crs=ccrs.PlateCarree(), linewidth=0.3, color='black', alpha=0.3, \n",
    "                         linestyle='-', draw_labels=True)\n",
    "    gl.xlabels_top = t\n",
    "    gl.xlabels_bottom = b\n",
    "    gl.ylabels_left = l\n",
    "    gl.ylabels_right=r\n",
    "    gl.xlines = True\n",
    "    gl.ylines = True\n",
    "    gl.xformatter = LONGITUDE_FORMATTER\n",
    "    gl.yformatter = LATITUDE_FORMATTER\n",
    "    ax.add_feature(feat.BORDERS, lw = 0.5)\n",
    "    ax.add_feature(feat.STATES.with_scale(\"10m\"), alpha = 0.5, lw = 0.4, ls=\":\")\n",
    "\n",
    "output_dir = \"azimuth_ppi_rhi\"\n",
    "os.makedirs(output_dir, exist_ok=True)\n",
    "projection=ccrs.LambertAzimuthalEqualArea(radar.longitude['data'][0],\n",
    "                                          radar.latitude['data'][0]\n",
    "                                         )\n",
    "pdisplay = pyart.graph.RadarMapDisplay(radar)\n",
    "\n",
    "for i in range(0, 361, 10):\n",
    "    azi = find_nearest(radar.azimuth['data'][radar.get_slice(0)], i)\n",
    "#     print(f\"Plotting azimuth {azi}\")\n",
    "    pseudorhi = pyart.util.cross_section_ppi(radar, [azi])\n",
    "    display = pyart.graph.RadarDisplay(pseudorhi)\n",
    "    fig = plt.figure(figsize=[12, 6])\n",
    "\n",
    "    map_panel_axes = [0.01, 0.05, .5, .7]\n",
    "    x_cut_panel_axes = [0.5, 0.05, .5, .7]\n",
    "\n",
    "    # Panel 1: PPI plot of the second tilt.\n",
    "    ax1 = fig.add_axes(map_panel_axes, projection=projection)\n",
    "    pdisplay.plot_ppi_map(\"DBZH\", sweep=1, cmap = \"ChaseSpectral\",\n",
    "                          resolution=\"50m\", fig=fig, ax=ax1, projection=projection)\n",
    "    pdisplay.plot_range_rings(np.linspace(50, 130, 3), lw = 0.5, ax=ax1)\n",
    "\n",
    "    radar_lat = radar.latitude['data']\n",
    "    radar_lon = radar.longitude['data']\n",
    "\n",
    "    # Create azimuth lines\n",
    "    dtor = np.pi/180.0\n",
    "    max_range = 150\n",
    "    maxrange_meters = max_range * 1000.\n",
    "    meters_to_lat = 1. / 111177.\n",
    "    meters_to_lon =  1. / (111177. * np.cos(radar_lat * dtor))\n",
    "\n",
    "    # for azi in range(0,360,45): # 45 degree intervals\n",
    "    azimuth = 90. - azi\n",
    "    dazimuth = azimuth * dtor\n",
    "    lon_maxrange = radar_lon + np.cos(dazimuth) * meters_to_lon * maxrange_meters\n",
    "    lat_maxrange = radar_lat + np.sin(dazimuth) * meters_to_lat * maxrange_meters\n",
    "    pdisplay.plot_line_geo([radar_lon, lon_maxrange], [radar_lat, lat_maxrange], line_style='-', \n",
    "                           lw=2, color='yellow', transform=ccrs.PlateCarree())\n",
    "    add_map(ax=ax1, b=1, l=1)\n",
    "    # Panel 2: RHI slice\n",
    "    ax2 = fig.add_axes(x_cut_panel_axes)\n",
    "    display.plot_rhi('DBZH', ax = ax2, cmap = \"pyart_NWSRef\")\n",
    "    ax2.set_ylim([0,20])\n",
    "    ax2.set_xlim([0,130])\n",
    "    plt.savefig(f\"{output_dir}{os.sep}{i}_RHI_Tauktae_azimuth_{azi}\"+\".png\", bbox_inches=\"tight\")\n",
    "    plt.close()"
   ]
  },
  {
   "cell_type": "code",
   "execution_count": 15,
   "id": "0d83bd47",
   "metadata": {},
   "outputs": [],
   "source": [
    "# !open $output_dir"
   ]
  },
  {
   "cell_type": "code",
   "execution_count": 16,
   "id": "7e82973f",
   "metadata": {},
   "outputs": [],
   "source": [
    "import re\n",
    "def natural_sort_key(s, _re=re.compile(r'(\\d+)')):\n",
    "    return [int(t) if i & 1 else t.lower() for i, t in enumerate(_re.split(s))]"
   ]
  },
  {
   "cell_type": "code",
   "execution_count": 17,
   "id": "5f283bb5",
   "metadata": {},
   "outputs": [],
   "source": [
    "import glob\n",
    "from PIL import Image\n",
    "\n",
    "# filepaths\n",
    "fp_in = f\"{output_dir}{os.sep}*png\"\n",
    "fp_out = 'knisa_vol.gif'\n",
    "files = sorted(glob.glob(fp_in))\n",
    "sorted_files = sorted(files, key=natural_sort_key)\n",
    "img, *imgs = [Image.open(f) for f in sorted_files]\n",
    "img.save(fp=fp_out, format='GIF', append_images=imgs,\n",
    "         save_all=True, duration=300, loop=0)"
   ]
  },
  {
   "cell_type": "code",
   "execution_count": 18,
   "id": "8e450f64",
   "metadata": {},
   "outputs": [
    {
     "data": {
      "text/html": [
       "<img src=\"knisa_vol.gif\"/>"
      ],
      "text/plain": [
       "<IPython.core.display.Image object>"
      ]
     },
     "execution_count": 18,
     "metadata": {},
     "output_type": "execute_result"
    }
   ],
   "source": [
    "from IPython.display import Image\n",
    "Image(url='knisa_vol.gif') "
   ]
  },
  {
   "cell_type": "code",
   "execution_count": null,
   "id": "fa4493a8",
   "metadata": {},
   "outputs": [],
   "source": []
  }
 ],
 "metadata": {
  "kernelspec": {
   "display_name": "Python 3 (ipykernel)",
   "language": "python",
   "name": "python3"
  },
  "language_info": {
   "codemirror_mode": {
    "name": "ipython",
    "version": 3
   },
   "file_extension": ".py",
   "mimetype": "text/x-python",
   "name": "python",
   "nbconvert_exporter": "python",
   "pygments_lexer": "ipython3",
   "version": "3.11.5"
  }
 },
 "nbformat": 4,
 "nbformat_minor": 5
}
