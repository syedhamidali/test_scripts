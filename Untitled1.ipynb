{
 "cells": [
  {
   "cell_type": "code",
   "execution_count": 1,
   "metadata": {
    "scrolled": true
   },
   "outputs": [
    {
     "name": "stdout",
     "output_type": "stream",
     "text": [
      "\n",
      "## You are using the Python ARM Radar Toolkit (Py-ART), an open source\n",
      "## library for working with weather radar data. Py-ART is partly\n",
      "## supported by the U.S. Department of Energy as part of the Atmospheric\n",
      "## Radiation Measurement (ARM) Climate Research Facility, an Office of\n",
      "## Science user facility.\n",
      "##\n",
      "## If you use this software to prepare a publication, please cite:\n",
      "##\n",
      "##     JJ Helmus and SM Collis, JORS 2016, doi: 10.5334/jors.119\n",
      "\n"
     ]
    }
   ],
   "source": [
    "import netCDF4\n",
    "import pyart\n",
    "import numpy as np\n",
    "# We will read the nc data with netCDF4.Dataset\n"
   ]
  },
  {
   "cell_type": "code",
   "execution_count": null,
   "metadata": {},
   "outputs": [],
   "source": [
    "data = netCDF4.Dataset(\"test_radar.nc\")\n",
    "data.variables.keys()\n",
    "data['azimuth'][:].shape\n",
    "data['range'][:].shape\n",
    "radar = pyart.testing.make_empty_ppi_radar(667, 400, 1)\n",
    "radar.time['data'] = np.array(data['time'][:])\n",
    "data['longitude'][:]\n",
    "radar.latitude['data'] = np.array([data['latitude'][:]])\n",
    "radar.longitude['data'] = np.array([data['longitude'][:]])\n",
    "radar.longitude['data']\n",
    "radar.range['data'] = np.array(data['range'][:])\n",
    "radar.range['data'] = np.linspace(0.0, 60.0*(667-1), 667)\n",
    "radar.range['data']"
   ]
  }
 ],
 "metadata": {
  "kernelspec": {
   "display_name": "Python 3",
   "language": "python",
   "name": "python3"
  },
  "language_info": {
   "codemirror_mode": {
    "name": "ipython",
    "version": 3
   },
   "file_extension": ".py",
   "mimetype": "text/x-python",
   "name": "python",
   "nbconvert_exporter": "python",
   "pygments_lexer": "ipython3",
   "version": "3.8.6"
  }
 },
 "nbformat": 4,
 "nbformat_minor": 4
}
