{
 "cells": [
  {
   "cell_type": "code",
   "execution_count": null,
   "metadata": {},
   "outputs": [],
   "source": [
    "import netCDF4 as nc\n",
    "import numpy as np\n",
    "\n",
    "fn = 'C:/temp/test.nc'\n",
    "ds = nc.Dataset(fn, 'w', format='NETCDF4')\n",
    "\n",
    "time = ds.createDimension('time', None)\n",
    "lat = ds.createDimension('lat', 9270)\n",
    "lon = ds.createDimension('lon', 2500)\n",
    "\n",
    "times = ds.createVariable('time', 'f4', ('time',))\n",
    "lats = ds.createVariable('lat', 'f4', ('lat',))\n",
    "lons = ds.createVariable('lon', 'f4', ('lon',))\n",
    "value = ds.createVariable('value', 'f4', ('time', 'lat', 'lon',))\n",
    "value.units = 'Unknown'\n",
    "\n",
    "lats[:] = np.arange(40.0, 50.0, 1.0)\n",
    "lons[:] = np.arange(-110.0, -100.0, 1.0)\n",
    "\n",
    "print('var size before adding data', value.shape)\n",
    "\n",
    "value[0, :, :] = np.random.uniform(0, 100, size=(10, 10))\n",
    "\n",
    "print('var size after adding first data', value.shape)\n",
    "xval = np.linspace(0.5, 5.0, 10)\n",
    "yval = np.linspace(0.5, 5.0, 10)\n",
    "value[1, :, :] = np.array(xval.reshape(-1, 1) + yval)\n",
    "\n",
    "print('var size after adding second data', value.shape)\n",
    "\n",
    "ds.close()"
   ]
  }
 ],
 "metadata": {
  "kernelspec": {
   "display_name": "Python 3",
   "language": "python",
   "name": "python3"
  },
  "language_info": {
   "codemirror_mode": {
    "name": "ipython",
    "version": 3
   },
   "file_extension": ".py",
   "mimetype": "text/x-python",
   "name": "python",
   "nbconvert_exporter": "python",
   "pygments_lexer": "ipython3",
   "version": "3.8.6"
  }
 },
 "nbformat": 4,
 "nbformat_minor": 4
}
