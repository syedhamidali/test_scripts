{
 "cells": [
  {
   "cell_type": "code",
   "execution_count": null,
   "metadata": {},
   "outputs": [
    {
     "name": "stdout",
     "output_type": "stream",
     "text": [
      "\n",
      "## You are using the Python ARM Radar Toolkit (Py-ART), an open source\n",
      "## library for working with weather radar data. Py-ART is partly\n",
      "## supported by the U.S. Department of Energy as part of the Atmospheric\n",
      "## Radiation Measurement (ARM) Climate Research Facility, an Office of\n",
      "## Science user facility.\n",
      "##\n",
      "## If you use this software to prepare a publication, please cite:\n",
      "##\n",
      "##     JJ Helmus and SM Collis, JORS 2016, doi: 10.5334/jors.119\n",
      "\n"
     ]
    }
   ],
   "source": [
    "import numpy as np\n",
    "import matplotlib.pyplot as plt\n",
    "import pyart"
   ]
  },
  {
   "cell_type": "code",
   "execution_count": null,
   "metadata": {},
   "outputs": [],
   "source": [
    "datafile=pyart.io.read('/Users/rizvi/Documents/Jup/MDV-20150805-084449-PPIVol.nc')\n",
    "print(datafile.fields.keys())\n",
    "datafile.info('compact')"
   ]
  },
  {
   "cell_type": "code",
   "execution_count": null,
   "metadata": {},
   "outputs": [],
   "source": [
    "z=datafile.fields['DBZH']['data']\n",
    "print(np.shape(z))                                 ## Calculate rain rate\n",
    "b=1.4\n",
    "a=300\n",
    "R=(z/a)**(1/b)\n",
    "np.shape(R)"
   ]
  },
  {
   "cell_type": "code",
   "execution_count": null,
   "metadata": {},
   "outputs": [],
   "source": [
    "mask_dict = {'data': R, 'units': 'mm/hr', 'long_name': 'rain rate',\n",
    "             '_FillValue': R.fill_value, 'standard_name': 'R'}\n",
    "datafile.add_field('R',mask_dict)"
   ]
  },
  {
   "cell_type": "code",
   "execution_count": null,
   "metadata": {},
   "outputs": [],
   "source": []
  },
  {
   "cell_type": "code",
   "execution_count": null,
   "metadata": {},
   "outputs": [],
   "source": [
    "datafile.fields.keys()"
   ]
  },
  {
   "cell_type": "code",
   "execution_count": null,
   "metadata": {
    "scrolled": false
   },
   "outputs": [],
   "source": [
    "fig = plt.figure(figsize=(15,10),dpi=300)\n",
    "display = pyart.graph.RadarMapDisplay(datafile)\n",
    "display.plot_ppi_map('R',1, min_lon=72.6, max_lon=75, min_lat=16.9, max_lat=19.3,\n",
    "                     lon_lines=np.arange(72.6,75, .5), resolution='10m',\n",
    "                     lat_lines=np.arange(16.9,19.3, .5),\n",
    "                     fig=fig, lat_0=datafile.latitude['data'][0],\n",
    "                     lon_0=datafile.longitude['data'][0],cmap='jet')\n",
    "display.plot_range_ring(30., line_style='k-')\n",
    "display.plot_range_ring(60., line_style='k--')\n",
    "display.plot_range_ring(90., line_style='k-')\n",
    "display.plot_range_ring(120., line_style='k--')"
   ]
  },
  {
   "cell_type": "code",
   "execution_count": null,
   "metadata": {},
   "outputs": [],
   "source": []
  }
 ],
 "metadata": {
  "kernelspec": {
   "display_name": "Python 3",
   "language": "python",
   "name": "python3"
  },
  "language_info": {
   "codemirror_mode": {
    "name": "ipython",
    "version": 3
   },
   "file_extension": ".py",
   "mimetype": "text/x-python",
   "name": "python",
   "nbconvert_exporter": "python",
   "pygments_lexer": "ipython3",
   "version": "3.8.6"
  }
 },
 "nbformat": 4,
 "nbformat_minor": 4
}
